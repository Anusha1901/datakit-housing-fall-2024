{
 "cells": [
  {
   "cell_type": "markdown",
   "id": "a4e2da82",
   "metadata": {},
   "source": [
    "####                                      Challenge 4: Developing Post-Disaster Housing Response\n",
    "####                                                             Dashboard\n",
    "\n",
    "Nur Afsa Syeda"
   ]
  },
  {
   "cell_type": "markdown",
   "id": "c4b453bb",
   "metadata": {},
   "source": [
    "## Enviornment Setup"
   ]
  },
  {
   "cell_type": "code",
   "execution_count": 1,
   "id": "b6fb91e8",
   "metadata": {},
   "outputs": [],
   "source": [
    "#load libraries\n",
    "import geopandas as gpd\n",
    "import pandas as pd\n",
    "import numpy as np\n",
    "import matplotlib.pyplot as plt\n",
    "import contextily as ctx\n",
    "import statsmodels.api as sm\n",
    "import seaborn as sns\n",
    "import folium\n",
    "from folium import Choropleth\n",
    "import plotly.express as px\n",
    "import plotly.graph_objects as go\n",
    "from sklearn.cluster import KMeans\n",
    "from sklearn.preprocessing import StandardScaler\n",
    "import dash\n",
    "from dash import dcc, html, Input, Output\n",
    "import webbrowser"
   ]
  },
  {
   "cell_type": "code",
   "execution_count": 2,
   "id": "c6e59f5e",
   "metadata": {},
   "outputs": [],
   "source": [
    "# File paths\n",
    "file_path = './data_FL.csv'                                  # data file\n",
    "shapefile_path = './tl_rd22_12_tract/tl_rd22_12_tract.shp'   # Shapefile\n",
    "county_name_path = './st12_fl_cou2020.txt'                   # county name file\n",
    "\n",
    "def read_dataframe(filename, delimiter='|'):\n",
    "    # Check the file extension to handle different file types\n",
    "    if filename.endswith('.csv'):\n",
    "        df = pd.read_csv(filename)\n",
    "    elif filename.endswith('.txt'):\n",
    "        df = pd.read_csv(filename, delimiter=delimiter)\n",
    "    else:\n",
    "        raise ValueError(\"Unsupported file format. Only CSV and TXT files are supported.\")\n",
    "    return df\n",
    "\n",
    "def read_shapefile(shapefile_path):\n",
    "    # Read shapefile\n",
    "    gdf = gpd.read_file(shapefile_path)\n",
    "    return gdf"
   ]
  },
  {
   "cell_type": "code",
   "execution_count": 3,
   "id": "a18fac97",
   "metadata": {},
   "outputs": [],
   "source": [
    "# Read the data file\n",
    "data = read_dataframe(file_path)"
   ]
  },
  {
   "cell_type": "code",
   "execution_count": 4,
   "id": "d9d939c6",
   "metadata": {},
   "outputs": [],
   "source": [
    "# Read the county name file\n",
    "county_name_data =  read_dataframe(county_name_path, delimiter='|') "
   ]
  },
  {
   "cell_type": "code",
   "execution_count": 5,
   "id": "b89c4c89",
   "metadata": {
    "scrolled": true
   },
   "outputs": [],
   "source": [
    "# Read the shapefile data\n",
    "shapefile_gdf = read_shapefile(shapefile_path)"
   ]
  },
  {
   "cell_type": "code",
   "execution_count": 6,
   "id": "3db48ed4",
   "metadata": {},
   "outputs": [],
   "source": [
    "# Convert the columns in DataFrames to strings\n",
    "county_name_data['STATEFP'] = county_name_data['STATEFP'].astype(str)\n",
    "county_name_data['COUNTYFP'] = county_name_data['COUNTYFP'].astype(str)\n",
    "\n",
    "data['state_fips_code'] = data['state_fips_code'].astype(str)\n",
    "data['county_fips_code'] = data['county_fips_code'].astype(str)\n",
    "\n",
    "# Merge the county names into the census tract data\n",
    "data = data.merge(county_name_data, how='left', \n",
    "                  left_on=['state_fips_code', 'county_fips_code'], right_on=['STATEFP', 'COUNTYFP'])"
   ]
  },
  {
   "cell_type": "markdown",
   "id": "d67468d7",
   "metadata": {},
   "source": [
    "## Data wrangling"
   ]
  },
  {
   "cell_type": "code",
   "execution_count": 7,
   "id": "3071cd36",
   "metadata": {},
   "outputs": [],
   "source": [
    "#Check for missing values in each column\n",
    "missing_values = [-666666666, -222222222]"
   ]
  },
  {
   "cell_type": "code",
   "execution_count": 8,
   "id": "ff71d6c6",
   "metadata": {},
   "outputs": [],
   "source": [
    "# Create a new DataFrame by replaceing all occurrences of the missing values with NaN \n",
    "data_clean = data.replace(missing_values, np.nan)"
   ]
  },
  {
   "cell_type": "code",
   "execution_count": 9,
   "id": "32c5c224",
   "metadata": {},
   "outputs": [],
   "source": [
    "# One-hot encoding \n",
    "for column in ['economic_distress_pop_agg', 'economic_distress_simple_agg', 'investment_areas']:\n",
    "    data_clean[column] = data_clean[column].map({'YES': 1, 'NO': 0})"
   ]
  },
  {
   "cell_type": "code",
   "execution_count": 10,
   "id": "04790588",
   "metadata": {},
   "outputs": [],
   "source": [
    "# Rename key columns and few others for better readability\n",
    "# FEMA (2014-2021) - Expected building loss rate (Natural Hazards Risk Index)\n",
    "# FEMA (2014-2021) - Expected population loss rate (Natural Hazards Risk Index)\n",
    "# DOE (2018) - Energy burden (percentile)\n",
    "\n",
    "data_clean = data_clean.rename(columns={\n",
    "    'expected_building_loss_rate_natural_hazards_risk_index_percentile': 'Building Loss Rate Percentile',\n",
    "    'expected_population_loss_rate_natural_hazards_risk_index_percentile': 'Population Loss Rate Percentile',\n",
    "    'energy_burden_percentile': 'Energy Burden Percentile',\n",
    "    's0101_c04_022e': 'Population under 18 years (male)',\n",
    "    's0101_c04_026e': 'Population over 18 years (male)',\n",
    "    's0101_c04_028e': 'Population over 60 years (male)',\n",
    "    's0101_c06_022e': 'Population under 18 years (female)',\n",
    "    's0101_c06_026e': 'Population over 18 years (female)',\n",
    "    's0101_c06_028e': 'Population over 60 years (female)',\n",
    "    's1701_c03_011e': 'Percentage below poverty (male)',\n",
    "    's1701_c03_012e': 'Percentage below poverty (female)',\n",
    "    's2503_c01_024e': 'Housing cost (total)',\n",
    "    's2503_c03_024e': 'Housing cost for owners',\n",
    "    's2503_c05_024e': 'Housing cost for renters'    \n",
    "})"
   ]
  },
  {
   "cell_type": "markdown",
   "id": "06914d8e",
   "metadata": {},
   "source": [
    "## Understanding vulnerability to disasters"
   ]
  },
  {
   "cell_type": "code",
   "execution_count": 11,
   "id": "09cf5c1a",
   "metadata": {},
   "outputs": [],
   "source": [
    "# Select the relevant columns for clustering\n",
    "clustering_features = ['Building Loss Rate Percentile', 'Population Loss Rate Percentile', 'Energy Burden Percentile']\n",
    "\n",
    "# Extract these features from the dataset\n",
    "risk_data_clustering = data_clean[clustering_features].copy()\n",
    "\n",
    "# Replace infinite values with NaN\n",
    "risk_data_clustering.replace([np.inf, -np.inf], np.nan, inplace=True)\n",
    "\n",
    "# Drop rows with NaN values\n",
    "risk_data_clustering.dropna(inplace=True)"
   ]
  },
  {
   "cell_type": "code",
   "execution_count": 12,
   "id": "83a338ce",
   "metadata": {
    "scrolled": false
   },
   "outputs": [],
   "source": [
    "# Normalize the data\n",
    "scaler = StandardScaler()\n",
    "risk_data_normalized = scaler.fit_transform(risk_data_clustering)\n",
    "\n",
    "# Apply K-Means Clustering\n",
    "kmeans = KMeans(n_clusters=3, random_state=42)\n",
    "risk_data_clustering['cluster'] = kmeans.fit_predict(risk_data_normalized)\n",
    "\n",
    "# Determine the highest-risk cluster based on cluster centroids\n",
    "cluster_centers = kmeans.cluster_centers_\n",
    "high_risk_cluster = np.argmax(cluster_centers.mean(axis=1))  # Identifies the cluster with the highest mean centroid\n",
    "\n",
    "# Calculate distances to the centroid of the high-risk cluster\n",
    "high_risk_cluster_points = risk_data_normalized[risk_data_clustering['cluster'] == high_risk_cluster]\n",
    "centroid = cluster_centers[high_risk_cluster]\n",
    "\n",
    "# Calculate Euclidean distance to the centroid for each point in the high-risk cluster\n",
    "distances_to_centroid = np.linalg.norm(high_risk_cluster_points - centroid, axis=1)\n",
    "\n",
    "# Add distances to the DataFrame\n",
    "risk_data_clustering.loc[risk_data_clustering['cluster'] == high_risk_cluster, 'distance_to_centroid'] = distances_to_centroid\n",
    "\n",
    "# Select the top 5 areas based on their distance to the centroid\n",
    "top_5_high_risk_areas = risk_data_clustering[risk_data_clustering['cluster'] == high_risk_cluster]\n",
    "top_5_high_risk_areas = top_5_high_risk_areas.sort_values(by='distance_to_centroid').head(5)"
   ]
  },
  {
   "cell_type": "code",
   "execution_count": 13,
   "id": "aab1bc6e",
   "metadata": {},
   "outputs": [],
   "source": [
    "# Add 'geoid','county', and 'county name' columns for display purposes\n",
    "top_5_high_risk_areas_display = data_clean.loc[top_5_high_risk_areas.index, ['geoid', 'county', 'COUNTYNAME'] + clustering_features]\n",
    "top_5_high_risk_areas_display['distance_to_centroid'] = top_5_high_risk_areas['distance_to_centroid']"
   ]
  },
  {
   "cell_type": "code",
   "execution_count": 14,
   "id": "14c225cb",
   "metadata": {},
   "outputs": [],
   "source": [
    "# Get unique counties from the top 5 high-risk areas\n",
    "unique_counties = top_5_high_risk_areas_display['COUNTYNAME'].unique()\n",
    "\n",
    "# Filter the clean dataset to get all census tracts in the identified counties\n",
    "all_census_tracts_in_counties = data_clean[data_clean['COUNTYNAME'].isin(unique_counties)].copy()"
   ]
  },
  {
   "cell_type": "code",
   "execution_count": 15,
   "id": "c18113d5",
   "metadata": {},
   "outputs": [],
   "source": [
    "# Merge the shapefile\n",
    "shapefile_gdf['GEOID'] = shapefile_gdf['GEOID'].astype(str)\n",
    "all_census_tracts_in_counties['geoid'] = all_census_tracts_in_counties['geoid'].astype(str)\n",
    "merged_gdf = shapefile_gdf.merge(all_census_tracts_in_counties, left_on='GEOID', right_on='geoid', how='inner')"
   ]
  },
  {
   "cell_type": "markdown",
   "id": "0b029bfc",
   "metadata": {},
   "source": [
    "## Dashboard"
   ]
  },
  {
   "cell_type": "code",
   "execution_count": 16,
   "id": "b5ce1eef",
   "metadata": {
    "scrolled": false
   },
   "outputs": [],
   "source": [
    "# Sort the unique counties alphabetically\n",
    "unique_counties_sorted = sorted(unique_counties, key=lambda x: x.strip().lower())\n",
    "\n",
    "# Initialize Dash app\n",
    "app = dash.Dash(__name__)\n",
    "\n",
    "# Define layout of the dashboard\n",
    "app.layout = html.Div([\n",
    "    html.H1('Disaster Risk and Demographics Dashboard', style={'textAlign': 'center', 'margin-bottom': '20px'}),\n",
    "    \n",
    "    html.Div([\n",
    "        # Map title\n",
    "        html.H3(id='map-title', style={'margin-right': '50px'}),\n",
    "       \n",
    "        # Dropdown to select a county\n",
    "        html.Div([\n",
    "            html.Label('Select County:', style={'margin-right': '10px', 'font-weight': 'bold'}),\n",
    "            dcc.Dropdown(\n",
    "                id='county-dropdown',\n",
    "                options=[{'label': county, 'value': county} for county in unique_counties_sorted],\n",
    "                value=unique_counties_sorted[0],\n",
    "                style={'width': '200px'}\n",
    "            )\n",
    "            ], style={'display': 'flex', 'align-items': 'center'})\n",
    "        ], style={'display': 'flex', 'justify-content': 'center', 'align-items': 'center', 'margin-top': '20px', 'margin-bottom': '20px'}),\n",
    "    \n",
    "    # Map of disaster-prone areas\n",
    "    # Two maps side by side\n",
    "    html.Div([\n",
    "        # Building Loss Percentile Map\n",
    "        html.Div([\n",
    "            dcc.Graph(id='building-loss-map')\n",
    "        ], style={'width': '48%', 'display': 'inline-block'}),\n",
    "        \n",
    "        # Population Loss Percentile Map\n",
    "        html.Div([\n",
    "            dcc.Graph(id='population-loss-map')\n",
    "        ], style={'width': '48%', 'display': 'inline-block'})\n",
    "    ], style={'display': 'flex', 'justify-content': 'space-between', 'margin-bottom': '20px', 'margin-top': '20px'}),\n",
    "\n",
    "    # Plots to show demographic data based on selected county\n",
    "    # Two-column layout for demographic plots\n",
    "    html.Div([\n",
    "    # First column\n",
    "        html.Div([\n",
    "            dcc.Graph(id='age-male-plot'),\n",
    "            dcc.Graph(id='age-female-plot'),\n",
    "            dcc.Graph(id='housing-costs-plot')\n",
    "        ], style={'width': '48%', 'display': 'inline-block', 'vertical-align': 'top'}),\n",
    "    \n",
    "    # Second column\n",
    "        html.Div([\n",
    "            dcc.Graph(id='poverty-levels-plot'),\n",
    "            dcc.Graph(id='poverty-levels-map-male'),\n",
    "            dcc.Graph(id='poverty-levels-map-female')           \n",
    "        ], style={'width': '48%', 'display': 'inline-block', 'vertical-align': 'top'})\n",
    "    ], style={'display': 'flex', 'justify-content': 'space-between', 'padding': '10px'})\n",
    "\n",
    "])\n",
    "\n",
    "# Callback to update the map title based on selected county\n",
    "@app.callback(\n",
    "    Output('map-title', 'children'),\n",
    "    [Input('county-dropdown', 'value')]\n",
    ")\n",
    "\n",
    "def update_map_title(selected_county):\n",
    "    return f'High-Risk Areas: {selected_county}'\n",
    "\n",
    "# Callback to update the map based on the top 5 high-risk areas\n",
    "@app.callback(\n",
    "    [Output('building-loss-map', 'figure'),\n",
    "     Output('population-loss-map', 'figure')],\n",
    "    [Input('county-dropdown', 'value')]\n",
    ")\n",
    "\n",
    "def update_map(selected_county):\n",
    "    # Filter GeoDataFrame for the selected county\n",
    "    filtered_gdf = merged_gdf[merged_gdf['COUNTYNAME'] == selected_county]\n",
    "\n",
    "    # Building Loss Percentile Map\n",
    "    building_loss_fig = px.choropleth(\n",
    "        filtered_gdf,\n",
    "        geojson=filtered_gdf.geometry,\n",
    "        locations=filtered_gdf.index,\n",
    "        color='Building Loss Rate Percentile',\n",
    "        color_continuous_scale='YlOrRd',\n",
    "        hover_name='COUNTYNAME',\n",
    "        projection='mercator'\n",
    "    )\n",
    "    building_loss_fig.update_geos(fitbounds=\"locations\", visible=False)\n",
    "    building_loss_fig.update_layout(margin={\"r\": 0, \"t\": 40, \"l\": 0, \"b\": 0})\n",
    "    \n",
    "    # Population Loss Percentile Map\n",
    "    population_loss_fig = px.choropleth(\n",
    "        filtered_gdf,\n",
    "        geojson=filtered_gdf.geometry,\n",
    "        locations=filtered_gdf.index,\n",
    "        color='Population Loss Rate Percentile',\n",
    "        color_continuous_scale='Blues',\n",
    "        hover_name='COUNTYNAME',\n",
    "        projection='mercator'\n",
    "    )\n",
    "    population_loss_fig.update_geos(fitbounds=\"locations\", visible=False)\n",
    "    population_loss_fig.update_layout(margin={\"r\": 0, \"t\": 40, \"l\": 0, \"b\": 0})\n",
    "\n",
    "    return building_loss_fig, population_loss_fig\n",
    "\n",
    "\n",
    "# Callback to update demographic plots based on selected county\n",
    "@app.callback(\n",
    "    [Output('age-male-plot', 'figure'),\n",
    "     Output('age-female-plot', 'figure'),\n",
    "     Output('poverty-levels-plot', 'figure'),\n",
    "     Output('poverty-levels-map-male', 'figure'),\n",
    "     Output('poverty-levels-map-female', 'figure'),\n",
    "     Output('housing-costs-plot', 'figure')],\n",
    "    [Input('county-dropdown', 'value')]\n",
    ")\n",
    "\n",
    "def update_demographic_plots(selected_county):\n",
    "    county_data = merged_gdf[merged_gdf['COUNTYNAME'] == selected_county]\n",
    "    \n",
    "    # Plot 1: Age Demographics (Male)\n",
    "    age_categories_male = ['Population under 18 years (male)', \n",
    "                           'Population over 18 years (male)', 'Population over 60 years (male)']\n",
    "    age_values_male = [county_data[category].sum() for category in age_categories_male]\n",
    "    fig_age_male = px.pie(\n",
    "        names=age_categories_male,\n",
    "        values=age_values_male,\n",
    "        title=f'Age Demographics (Male)',\n",
    "        labels={'names': 'Age Group', 'values': 'Population Percentage (%)'}\n",
    "    )\n",
    "    \n",
    "    # Plot 2: Age Demographics (Female)\n",
    "    age_categories_female = ['Population under 18 years (female)', 'Population over 18 years (female)', \n",
    "                             'Population over 60 years (female)']\n",
    "    age_values_female = [county_data[category].sum() for category in age_categories_female]\n",
    "    fig_age_female = px.pie(\n",
    "        names=age_categories_female,\n",
    "        values=age_values_female,\n",
    "        title=f'Age Demographics (Female)',\n",
    "        labels={'names': 'Age Group', 'values': 'Population Percentage (%)'}\n",
    "    )\n",
    "\n",
    "    # Plot 3: Poverty Levels by Sex\n",
    "    fig_poverty_levels = px.bar(\n",
    "        county_data,\n",
    "        x='geoid',\n",
    "        y=['Percentage below poverty (male)', 'Percentage below poverty (female)'],\n",
    "        labels={'value': 'Poverty Percentage (%)', 'variable': 'Sex'},\n",
    "        title=f'Poverty Levels by Sex'\n",
    "    )\n",
    "    \n",
    "    # Plot 4: Poverty Levels Map (Male)\n",
    "    fig_poverty_map_male = px.choropleth(\n",
    "        county_data,\n",
    "        geojson=county_data.geometry.__geo_interface__,\n",
    "        locations=county_data.index,\n",
    "        color='Percentage below poverty (male)',\n",
    "        hover_name='geoid',\n",
    "        labels={'Percentage below poverty (male)': 'Poverty (%) - Male'},\n",
    "        title=f'Poverty Levels (Male)'\n",
    "    )\n",
    "    fig_poverty_map_male.update_geos(fitbounds=\"locations\", visible=False)\n",
    "    \n",
    "    # Plot 5: Poverty Levels Map (Female)\n",
    "    fig_poverty_map_female = px.choropleth(\n",
    "        county_data,\n",
    "        geojson=county_data.geometry.__geo_interface__,\n",
    "        locations=county_data.index,\n",
    "        color='Percentage below poverty (female)',\n",
    "        hover_name='geoid',\n",
    "        labels={'Percentage below poverty (female)': 'Poverty (%) - Female'},\n",
    "        title=f'Poverty Levels (Female)'\n",
    "    )\n",
    "    fig_poverty_map_female.update_geos(fitbounds=\"locations\", visible=False)\n",
    "    \n",
    "    # Plot 6: Housing Costs\n",
    "    fig_housing_costs = px.bar(\n",
    "        county_data,\n",
    "        x='geoid',\n",
    "        y=['Housing cost for owners', 'Housing cost for renters'],\n",
    "        labels={'value': 'Housing Cost ($)', 'variable': 'Housing Type'},\n",
    "        title=f'Housing Costs'\n",
    "    )\n",
    "\n",
    "    return fig_age_male, fig_age_female, fig_poverty_levels, fig_poverty_map_male, fig_poverty_map_female, fig_housing_costs"
   ]
  },
  {
   "cell_type": "code",
   "execution_count": 17,
   "id": "3927c551",
   "metadata": {},
   "outputs": [
    {
     "data": {
      "text/html": [
       "\n",
       "        <iframe\n",
       "            width=\"100%\"\n",
       "            height=\"650\"\n",
       "            src=\"http://127.0.0.1:8051/\"\n",
       "            frameborder=\"0\"\n",
       "            allowfullscreen\n",
       "            \n",
       "        ></iframe>\n",
       "        "
      ],
      "text/plain": [
       "<IPython.lib.display.IFrame at 0x1921fb020a0>"
      ]
     },
     "metadata": {},
     "output_type": "display_data"
    }
   ],
   "source": [
    "# Define a port\n",
    "port = 8051\n",
    "\n",
    "# Open the browser\n",
    "webbrowser.open(f'http://127.0.0.1:{port}')\n",
    "\n",
    "# Run the app\n",
    "if __name__ == '__main__':\n",
    "    app.run_server(port=port, debug=True)"
   ]
  },
  {
   "cell_type": "code",
   "execution_count": null,
   "id": "6d1aee4d",
   "metadata": {},
   "outputs": [],
   "source": []
  }
 ],
 "metadata": {
  "kernelspec": {
   "display_name": "Python 3 (ipykernel)",
   "language": "python",
   "name": "python3"
  },
  "language_info": {
   "codemirror_mode": {
    "name": "ipython",
    "version": 3
   },
   "file_extension": ".py",
   "mimetype": "text/x-python",
   "name": "python",
   "nbconvert_exporter": "python",
   "pygments_lexer": "ipython3",
   "version": "3.9.19"
  }
 },
 "nbformat": 4,
 "nbformat_minor": 5
}
