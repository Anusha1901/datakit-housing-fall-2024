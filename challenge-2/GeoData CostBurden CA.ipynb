{
 "cells": [
  {
   "cell_type": "code",
   "execution_count": 115,
   "metadata": {},
   "outputs": [],
   "source": [
    "import pandas as pd\n",
    "import geopandas as gpd\n",
    "import matplotlib.pyplot as plt"
   ]
  },
  {
   "cell_type": "code",
   "execution_count": 116,
   "metadata": {},
   "outputs": [],
   "source": [
    "data = pd.read_csv(r'..\\..\\Census Data\\American Community Survey\\Housing Costs B25070\\5 Year Estimates\\ACSDT5Y2022.B25070-Data.csv')\n",
    "geodata_CA = gpd.read_file(r'..\\..\\Census Data\\GeoData Tiger Line\\tl_2023_06_tract.shp')\n",
    "demographic_data_raw = pd.read_csv(r'..\\..\\Census Data\\American Community Survey\\Demographics DP05\\ACSDP5Y2022.DP05-Data.csv', low_memory=False)"
   ]
  },
  {
   "cell_type": "code",
   "execution_count": 117,
   "metadata": {},
   "outputs": [],
   "source": [
    "# Simplifying the geometry a bit to reduce file size for sharing\n",
    "#geodata_CA['geometry'] = geodata_CA.geometry.simplify(tolerance=0.001)"
   ]
  },
  {
   "cell_type": "code",
   "execution_count": 118,
   "metadata": {},
   "outputs": [],
   "source": [
    "# limiting data to include only LA County and Orange County (based on Country FIPS codes 037 and 059, respectively)\n",
    "geodata_CA = geodata_CA.loc[(geodata_CA['COUNTYFP'].str.contains('037'))|\n",
    "                            (geodata_CA['COUNTYFP'].str.contains('059'))]"
   ]
  },
  {
   "cell_type": "code",
   "execution_count": null,
   "metadata": {},
   "outputs": [],
   "source": [
    "# keeping the percentage-based demographic columns (getting rid of margin of error data, total counts, unnamed: 366)\n",
    "drop_these = []\n",
    "for column in demographic_data_raw.columns:\n",
    "    if (not column.endswith('PE')) and (column not in ['GEO_ID', 'NAME']) or (column.endswith('M')):\n",
    "        drop_these.append(column)\n",
    "print(drop_these)"
   ]
  },
  {
   "cell_type": "code",
   "execution_count": 120,
   "metadata": {},
   "outputs": [],
   "source": [
    "demographic_data = demographic_data_raw.drop(columns=drop_these, axis=1)"
   ]
  },
  {
   "cell_type": "code",
   "execution_count": 121,
   "metadata": {},
   "outputs": [],
   "source": [
    "# dropping margin of error columns\n",
    "data = data.drop(columns= ['B25070_001M', 'B25070_002M', 'B25070_003M', 'B25070_004M', 'B25070_005M', 'B25070_006M', 'B25070_007M', 'B25070_008M', 'B25070_009M', 'B25070_010M', 'B25070_011M', 'Unnamed: 24'], axis = 1)"
   ]
  },
  {
   "cell_type": "code",
   "execution_count": 122,
   "metadata": {},
   "outputs": [],
   "source": [
    "# Changing headers\n",
    "data.columns = data.iloc[0,:]\n",
    "data = data.iloc[1:,:]\n",
    "data = data.reset_index()\n",
    "\n",
    "demographic_data.columns = demographic_data.iloc[0,:]\n",
    "demographic_data = demographic_data.iloc[1:,:]\n",
    "demographic_data = demographic_data.reset_index()"
   ]
  },
  {
   "cell_type": "code",
   "execution_count": 123,
   "metadata": {},
   "outputs": [],
   "source": [
    "# There are 4 columns with duplicated column names in this dataset. This removes them\n",
    "demographic_data = demographic_data.loc[:, ~demographic_data.columns.duplicated()]"
   ]
  },
  {
   "cell_type": "code",
   "execution_count": 124,
   "metadata": {},
   "outputs": [],
   "source": [
    "def parse_GEOID(long_GEOID):\n",
    "    _, short_form = long_GEOID.split('US')\n",
    "    return short_form"
   ]
  },
  {
   "cell_type": "code",
   "execution_count": 125,
   "metadata": {},
   "outputs": [],
   "source": [
    "# Match GEOIDs from both dataframes by parsing the longer version from the ACS data\n",
    "data['GEOID'] = data['Geography'].apply(parse_GEOID)\n",
    "demographic_data['GEOID'] = demographic_data['Geography'].apply(parse_GEOID)"
   ]
  },
  {
   "cell_type": "code",
   "execution_count": 126,
   "metadata": {},
   "outputs": [],
   "source": [
    "# drop now-defunct Geography & old index columns\n",
    "data= data.drop(columns = ['Geography', 'index'], axis =1)\n",
    "demographic_data= demographic_data.drop(columns = ['Geography', 'index'], axis =1)"
   ]
  },
  {
   "cell_type": "code",
   "execution_count": 127,
   "metadata": {},
   "outputs": [],
   "source": [
    "# \"Burdened\" here means spending more than 30% of the household income on rent\n",
    "def calculate_burdened_individuals (row):\n",
    "    over_30 = (row[7:11].astype('float')).sum()\n",
    "    percentage_over_30 = over_30 / float(row.iloc[1]) if float(row.iloc[1]) != 0 else 0\n",
    "    return over_30, percentage_over_30"
   ]
  },
  {
   "cell_type": "code",
   "execution_count": 128,
   "metadata": {},
   "outputs": [],
   "source": [
    "result = pd.DataFrame()\n",
    "result['number_burdened'], result['proportion_burdened'] = zip(*data.apply(calculate_burdened_individuals, axis = 1))"
   ]
  },
  {
   "cell_type": "code",
   "execution_count": 129,
   "metadata": {},
   "outputs": [],
   "source": [
    "# Add the calculated burdened data to the original dataframe\n",
    "data = data.join(result)"
   ]
  },
  {
   "cell_type": "code",
   "execution_count": null,
   "metadata": {},
   "outputs": [],
   "source": [
    "# looking at census tracts with highest proportions of cost-burdened renters\n",
    "data['Geographic Area Name'].loc[data['proportion_burdened'] >= (data['proportion_burdened'].quantile(0.95))]"
   ]
  },
  {
   "cell_type": "code",
   "execution_count": null,
   "metadata": {},
   "outputs": [],
   "source": [
    "# confirming GEOIDs match\n",
    "geodata_CA['GEOID']"
   ]
  },
  {
   "cell_type": "code",
   "execution_count": null,
   "metadata": {},
   "outputs": [],
   "source": [
    "data['GEOID']"
   ]
  },
  {
   "cell_type": "code",
   "execution_count": null,
   "metadata": {},
   "outputs": [],
   "source": [
    "demographic_data['GEOID']"
   ]
  },
  {
   "cell_type": "code",
   "execution_count": 134,
   "metadata": {},
   "outputs": [],
   "source": [
    "# Convert GeoIDs to strings\n",
    "geodata_CA['GEOID'] = geodata_CA['GEOID'].astype(str)\n",
    "data['GEOID'] = data['GEOID'].astype(str)\n",
    "demographic_data['GEOID'] = demographic_data['GEOID'].astype(str)"
   ]
  },
  {
   "cell_type": "code",
   "execution_count": null,
   "metadata": {},
   "outputs": [],
   "source": [
    "# Check the unique GEOID values in each dataset\n",
    "gdf_geoids = set(geodata_CA['GEOID'].unique())\n",
    "renter_geoids = set(data['GEOID'].unique())\n",
    "demo_geoids = set(demographic_data['GEOID'].unique())\n",
    "\n",
    "# Find the GEOIDs present in gdf but not in renter data & visa versa\n",
    "missing_in_renter = gdf_geoids - renter_geoids\n",
    "missing_in_gdf = renter_geoids - gdf_geoids\n",
    "missing_in_demo = gdf_geoids - demo_geoids\n",
    "\n",
    "print(f\"GEOIDs in shapefile but not in renter data: {len(missing_in_renter)}\")\n",
    "print(f\"GEOIDs in renter data but not in shapefile: {len(missing_in_gdf)}\")\n",
    "print(f\"GEOIDs in demographic data but not in shapefile: {len(missing_in_demo)}\")\n"
   ]
  },
  {
   "cell_type": "code",
   "execution_count": 136,
   "metadata": {},
   "outputs": [],
   "source": [
    "# Merge geodata + renter dataframes\n",
    "geodata_merged = geodata_CA.merge(data, how= 'inner', on='GEOID')\n",
    "geodata_merged = geodata_merged.merge(demographic_data, how= 'inner', on= ['GEOID', 'Geographic Area Name'])"
   ]
  },
  {
   "cell_type": "code",
   "execution_count": 137,
   "metadata": {},
   "outputs": [],
   "source": [
    "# Dropping columns that aren't necessary\n",
    "geodata_merged = geodata_merged.drop(columns=['STATEFP', 'COUNTYFP', 'TRACTCE', 'GEOIDFQ', 'NAME', 'MTFCC', 'FUNCSTAT', 'ALAND','AWATER', 'INTPTLAT', 'INTPTLON','NAMELSAD'], axis = 1)"
   ]
  },
  {
   "cell_type": "code",
   "execution_count": 138,
   "metadata": {},
   "outputs": [],
   "source": [
    "# Giving columns reader-friendly names for map legend\n",
    "geodata_merged = geodata_merged.rename(columns={\n",
    "    \"Estimate!!Total:\": \"Total Households\", \"Estimate!!Total:!!Less than 10.0 percent\": \"<10% Income Spent on Rent\", 'Estimate!!Total:!!10.0 to 14.9 percent': '10-14.9% Income Spent on Rent', 'Estimate!!Total:!!15.0 to 19.9 percent': '15-19.9% Income Spent on Rent', 'Estimate!!Total:!!20.0 to 24.9 percent': '20-24.9% Income Spent on Rent',  'Estimate!!Total:!!25.0 to 29.9 percent': '25-29.9% Income Spent on Rent', 'Estimate!!Total:!!30.0 to 34.9 percent': '30-34.9% Income Spent on Rent', 'Estimate!!Total:!!35.0 to 39.9 percent': '35-39.9% Income Spent on Rent', 'Estimate!!Total:!!40.0 to 49.9 percent': '40-49.9% Income Spent on Rent', 'Estimate!!Total:!!50.0 percent or more': '50+% Income Spent on Rent', 'Estimate!!Total:!!Not computed': 'Rent Expenditure Unknown', 'number_burdened': 'Number of Rent-Burdened Households (>30% Expenditure)', 'proportion_burdened': 'Proportion of Rent Burdened Households', 'Percent!!Race alone or in combination with one or more other races!!Total population!!Black or African American': 'Percent Black (alone or in combination with other races)', 'Percent!!HISPANIC OR LATINO AND RACE!!Total population!!Hispanic or Latino (of any race)': 'Percent Hispanic or Latino (alone or in combination with other races)', 'Percent!!Race alone or in combination with one or more other races!!Total population!!Asian': 'Percent Asian (alone or in combination with other races)', 'Percent!!RACE!!Total population!!One race!!White': 'Percent White'})"
   ]
  },
  {
   "cell_type": "code",
   "execution_count": null,
   "metadata": {},
   "outputs": [],
   "source": [
    "geodata_CA.plot()"
   ]
  },
  {
   "cell_type": "code",
   "execution_count": null,
   "metadata": {},
   "outputs": [],
   "source": [
    "geodata_CA.plot()"
   ]
  },
  {
   "cell_type": "code",
   "execution_count": null,
   "metadata": {},
   "outputs": [],
   "source": [
    "# Plotting static image\n",
    "fig, ax = plt.subplots(figsize=(5,5))\n",
    "geodata_merged.plot(column = 'Proportion of Rent Burdened Households', cmap ='RdYlGn_r', legend = True, ax=ax)\n",
    "ax.set_title('Proportion of Cost-Burdened Renter Households per Census Tract', fontsize=16)\n",
    "#plt.savefig('CA Cost Burdened Households.png')"
   ]
  },
  {
   "cell_type": "code",
   "execution_count": 142,
   "metadata": {},
   "outputs": [],
   "source": [
    "#\n",
    "geodata_merged['Proportion of Rent Burdened Households'] = pd.to_numeric(\n",
    "    geodata_merged['Proportion of Rent Burdened Households'],\n",
    "    errors='coerce')\n",
    "geodata_merged['Percent Black (alone or in combination with other races)'] = pd.to_numeric(\n",
    "    geodata_merged['Percent Black (alone or in combination with other races)'],\n",
    "    errors='coerce'\n",
    ")"
   ]
  },
  {
   "cell_type": "code",
   "execution_count": null,
   "metadata": {},
   "outputs": [],
   "source": [
    "# Making a non-interactable/static map with layers \n",
    "# I don't like how this looks, but maybe this code can be useful for someone else?\n",
    "fig, ax = plt.subplots(figsize=(15, 10))\n",
    "geodata_merged.plot(ax=ax, color='lightgray', edgecolor='black')\n",
    "race_layer = geodata_merged.plot(ax=ax, column='Percent Black (alone or in combination with other races)', scheme='quantiles', legend=True, alpha=0.25)\n",
    "rent_layer = geodata_merged.plot(ax=ax, column='Proportion of Rent Burdened Households', cmap = 'RdYlGn_r', legend=True, alpha=0.25)\n",
    "ax.axis('off')\n",
    "ax.set_title('Static Multi-Layer Map', fontsize=16)\n",
    "plt.legend(bbox_to_anchor=(1.05, 1), loc='upper right')"
   ]
  },
  {
   "cell_type": "code",
   "execution_count": null,
   "metadata": {},
   "outputs": [],
   "source": [
    "# Plotting interactable map w/ layers to allow additional demographics data later\n",
    "import folium\n",
    "\n",
    "# Base map has rent burdened choropleth overlay\n",
    "map = geodata_merged.explore(\n",
    "    column= 'Proportion of Rent Burdened Households', \n",
    "    name= 'Proportion of Rent Burdened Households', \n",
    "    cmap='RdYlGn_r', \n",
    "    legend= True, \n",
    "    figsize= (15,15),\n",
    "    tooltip= [\n",
    "        'Geographic Area Name', 'Total Households', r'Number of Rent-Burdened Households (>30% Expenditure)', 'Proportion of Rent Burdened Households', 'Percent White', 'Percent Black (alone or in combination with other races)', 'Percent Hispanic or Latino (alone or in combination with other races)', 'Percent Asian (alone or in combination with other races)'])\n",
    "\n",
    "geodata_merged.explore(\n",
    "    column='Percent White', \n",
    "    name='Ethnicity Overlay', \n",
    "    cmap='Blues_r', \n",
    "    legend=False,\n",
    "    tooltip=[\n",
    "        'Geographic Area Name', 'Percent White', 'Percent Black (alone or in combination with other races)', 'Percent Hispanic or Latino (alone or in combination with other races)', 'Percent Asian (alone or in combination with other races)'\n",
    "    ],\n",
    "    figsize=(15, 15),\n",
    "    m=map  \n",
    ")\n",
    "folium.LayerControl().add_to(map)\n",
    "map"
   ]
  },
  {
   "cell_type": "code",
   "execution_count": 146,
   "metadata": {},
   "outputs": [],
   "source": [
    "# save as HTML file for sharing\n",
    "map.save(\"LA + Orange Counties.html\")"
   ]
  }
 ],
 "metadata": {
  "kernelspec": {
   "display_name": ".venv",
   "language": "python",
   "name": "python3"
  },
  "language_info": {
   "codemirror_mode": {
    "name": "ipython",
    "version": 3
   },
   "file_extension": ".py",
   "mimetype": "text/x-python",
   "name": "python",
   "nbconvert_exporter": "python",
   "pygments_lexer": "ipython3",
   "version": "3.12.4"
  }
 },
 "nbformat": 4,
 "nbformat_minor": 2
}
