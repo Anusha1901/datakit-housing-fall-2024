{
 "cells": [
  {
   "cell_type": "markdown",
   "id": "3587a1ab-8396-48b9-960b-4d2690f532cb",
   "metadata": {},
   "source": [
    "# Introduction \n",
    "\n",
    "**Overview**\n",
    "\n",
    "This Exploratory Data Analysis (EDA) is dedicated to an in-depth examination of the DataKind DataKit—a comprehensive, free, and open-source toolkit designed to empower communities and organizations addressing critical social challenges. The DataKit offers:\n",
    "\n",
    "- **Community-Driven Social Impact Questions**: Curated inquiries sourced directly from communities that require data-driven insights, technological solutions, and compelling storytelling to tackle pressing social issues.\n",
    "  \n",
    "- **Expert-Validated Datasets**: A robust collection of meticulously vetted datasets, providing a solid foundation for meaningful analysis and actionable insights.\n",
    "  \n",
    "- **Comprehensive Housing Data**: High-quality, accessible housing data available at national, state, and local levels, ensuring a nuanced understanding of housing dynamics across various regions.\n",
    "\n",
    "**Goals**\n",
    "\n",
    "This notebook serves as my contribution to the collective effort aimed at generating impactful insights and developing tools to protect tenants from excessive rent increases and prevent arbitrary evictions. By leveraging the resources within the DataKit, this project seeks to address the following four pivotal challenges:\n",
    "\n",
    "1. **Challenge 1: Understanding Housing Inventory**\n",
    "   - **Objective**: Analyze the current housing dataset to determine availabile metrics, types, and distribution of within geographical regions.\n",
    "   - **Impact**: Provides a clear picture of insights, helping to identify gaps and areas of interest.\n",
    "\n",
    "2. **Challenge 2: Anticipating Household Displacement in Communities**\n",
    "   - **Objective**: Predict potential areas and populations at risk of displacement due to economic, environmental, or policy-driven factors.\n",
    "   - **Impact**: Enables proactive measures to protect vulnerable populations and maintain community stability.\n",
    "\n",
    "3. **Challenge 3: Planning for New Housing Development**\n",
    "   - **Objective**: Facilitate informed decision-making for future housing projects by assessing community needs, zoning regulations, and market trends.\n",
    "   - **Impact**: Supports the creation of sustainable and equitable housing solutions that align with community growth and demand.\n",
    "\n",
    "4. **Challenge 4: Developing Post-Disaster Housing Response**\n",
    "   - **Objective**: Create strategies for rapid and efficient housing recovery in the aftermath of natural or man-made disasters.\n",
    "   - **Impact**: Enhances resilience and ensures timely support for affected populations, minimizing long-term displacement and hardship.\n",
    "\n",
    "Through addressing these challenges, this EDA aims to contribute valuable insights and practical tools that foster equitable housing solutions, safeguard tenant rights, and promote community resilience."
   ]
  },
  {
   "cell_type": "markdown",
   "id": "1690095e-5041-4194-8e93-b5a163d0d680",
   "metadata": {},
   "source": [
    "A preliminary exploration of the Florida state data obtained from EODataScape using pandas and visualization libraries."
   ]
  },
  {
   "cell_type": "code",
   "execution_count": 2,
   "id": "580f53f4-8aad-4af4-83e3-a257adba6437",
   "metadata": {
    "tags": []
   },
   "outputs": [],
   "source": [
    "#import statements\n",
    "import pandas as pd\n",
    "import numpy as np\n",
    "\n",
    "#visualizations\n",
    "import geopandas as gpd\n",
    "import seaborn as sns\n",
    "from matplotlib import pyplot as plt\n",
    "\n"
   ]
  },
  {
   "cell_type": "markdown",
   "id": "7acf253f-fb5f-40d1-9fff-991f4d1f6353",
   "metadata": {},
   "source": [
    "### Exploring EODataScape CALIFORNIA Data\n",
    "\n",
    "This is a simple examination of the csv file downloaded from https://eodatascape.datakind.org/explore-data filtered for the state of California. The specific data features selected can be seen below. The dataframe was transposed to easily identify all features selected, and the data points, in the following case, are shown at the column level."
   ]
  },
  {
   "cell_type": "code",
   "execution_count": 5,
   "id": "2bb39084-7c9c-4a95-a7ee-d153ea471560",
   "metadata": {
    "tags": []
   },
   "outputs": [
    {
     "data": {
      "text/html": [
       "<div>\n",
       "<style scoped>\n",
       "    .dataframe tbody tr th:only-of-type {\n",
       "        vertical-align: middle;\n",
       "    }\n",
       "\n",
       "    .dataframe tbody tr th {\n",
       "        vertical-align: top;\n",
       "    }\n",
       "\n",
       "    .dataframe thead th {\n",
       "        text-align: right;\n",
       "    }\n",
       "</style>\n",
       "<table border=\"1\" class=\"dataframe\">\n",
       "  <thead>\n",
       "    <tr style=\"text-align: right;\">\n",
       "      <th></th>\n",
       "      <th>0</th>\n",
       "      <th>1</th>\n",
       "      <th>2</th>\n",
       "      <th>3</th>\n",
       "      <th>4</th>\n",
       "    </tr>\n",
       "  </thead>\n",
       "  <tbody>\n",
       "    <tr>\n",
       "      <th>geoid</th>\n",
       "      <td>6001400200</td>\n",
       "      <td>6001400600</td>\n",
       "      <td>6001401400</td>\n",
       "      <td>6001401600</td>\n",
       "      <td>6001401700</td>\n",
       "    </tr>\n",
       "    <tr>\n",
       "      <th>geoid_year</th>\n",
       "      <td>2020</td>\n",
       "      <td>2020</td>\n",
       "      <td>2020</td>\n",
       "      <td>2020</td>\n",
       "      <td>2020</td>\n",
       "    </tr>\n",
       "    <tr>\n",
       "      <th>state</th>\n",
       "      <td>California</td>\n",
       "      <td>California</td>\n",
       "      <td>California</td>\n",
       "      <td>California</td>\n",
       "      <td>California</td>\n",
       "    </tr>\n",
       "    <tr>\n",
       "      <th>county</th>\n",
       "      <td>Alameda County</td>\n",
       "      <td>Alameda County</td>\n",
       "      <td>Alameda County</td>\n",
       "      <td>Alameda County</td>\n",
       "      <td>Alameda County</td>\n",
       "    </tr>\n",
       "    <tr>\n",
       "      <th>state_fips_code</th>\n",
       "      <td>6</td>\n",
       "      <td>6</td>\n",
       "      <td>6</td>\n",
       "      <td>6</td>\n",
       "      <td>6</td>\n",
       "    </tr>\n",
       "    <tr>\n",
       "      <th>...</th>\n",
       "      <td>...</td>\n",
       "      <td>...</td>\n",
       "      <td>...</td>\n",
       "      <td>...</td>\n",
       "      <td>...</td>\n",
       "    </tr>\n",
       "    <tr>\n",
       "      <th>underground_tanks_pctile</th>\n",
       "      <td>89.0</td>\n",
       "      <td>66.0</td>\n",
       "      <td>95.0</td>\n",
       "      <td>98.0</td>\n",
       "      <td>93.0</td>\n",
       "    </tr>\n",
       "    <tr>\n",
       "      <th>air_toxics_resp_ej_pctile</th>\n",
       "      <td>40.0</td>\n",
       "      <td>56.0</td>\n",
       "      <td>72.0</td>\n",
       "      <td>71.0</td>\n",
       "      <td>62.0</td>\n",
       "    </tr>\n",
       "    <tr>\n",
       "      <th>air_toxics_resp_pctile</th>\n",
       "      <td>31.0</td>\n",
       "      <td>31.0</td>\n",
       "      <td>31.0</td>\n",
       "      <td>31.0</td>\n",
       "      <td>31.0</td>\n",
       "    </tr>\n",
       "    <tr>\n",
       "      <th>toxic_releases_ej_pctile</th>\n",
       "      <td>41.0</td>\n",
       "      <td>65.0</td>\n",
       "      <td>80.0</td>\n",
       "      <td>79.0</td>\n",
       "      <td>69.0</td>\n",
       "    </tr>\n",
       "    <tr>\n",
       "      <th>toxic_releases_pctile</th>\n",
       "      <td>53.0</td>\n",
       "      <td>53.0</td>\n",
       "      <td>49.0</td>\n",
       "      <td>49.0</td>\n",
       "      <td>49.0</td>\n",
       "    </tr>\n",
       "  </tbody>\n",
       "</table>\n",
       "<p>274 rows × 5 columns</p>\n",
       "</div>"
      ],
      "text/plain": [
       "                                         0                1                2  \\\n",
       "geoid                           6001400200       6001400600       6001401400   \n",
       "geoid_year                            2020             2020             2020   \n",
       "state                           California       California       California   \n",
       "county                      Alameda County   Alameda County   Alameda County   \n",
       "state_fips_code                          6                6                6   \n",
       "...                                    ...              ...              ...   \n",
       "underground_tanks_pctile              89.0             66.0             95.0   \n",
       "air_toxics_resp_ej_pctile             40.0             56.0             72.0   \n",
       "air_toxics_resp_pctile                31.0             31.0             31.0   \n",
       "toxic_releases_ej_pctile              41.0             65.0             80.0   \n",
       "toxic_releases_pctile                 53.0             53.0             49.0   \n",
       "\n",
       "                                         3                4  \n",
       "geoid                           6001401600       6001401700  \n",
       "geoid_year                            2020             2020  \n",
       "state                           California       California  \n",
       "county                      Alameda County   Alameda County  \n",
       "state_fips_code                          6                6  \n",
       "...                                    ...              ...  \n",
       "underground_tanks_pctile              98.0             93.0  \n",
       "air_toxics_resp_ej_pctile             71.0             62.0  \n",
       "air_toxics_resp_pctile                31.0             31.0  \n",
       "toxic_releases_ej_pctile              79.0             69.0  \n",
       "toxic_releases_pctile                 49.0             49.0  \n",
       "\n",
       "[274 rows x 5 columns]"
      ]
     },
     "execution_count": 5,
     "metadata": {},
     "output_type": "execute_result"
    }
   ],
   "source": [
    "#importing data from a download from the datakind pipeline https://eodatascape.datakind.org/explore-data\n",
    "df = pd.read_csv('data_ca.csv')\n",
    "df.head(5).T"
   ]
  },
  {
   "cell_type": "code",
   "execution_count": 43,
   "id": "71674b49-e334-4f1d-8721-c1417897c6d3",
   "metadata": {
    "tags": []
   },
   "outputs": [
    {
     "data": {
      "text/plain": [
       "(2268, 274)"
      ]
     },
     "execution_count": 43,
     "metadata": {},
     "output_type": "execute_result"
    }
   ],
   "source": [
    "df.shape"
   ]
  },
  {
   "cell_type": "markdown",
   "id": "23879702-0562-447c-8bb9-8aab30a402ce",
   "metadata": {},
   "source": [
    "### The data succesfully loaded from the download. Let's first perform a quick sanity check.\n",
    "The main purpose of this sanity check to to ensure that only data from the selected state has been recorded."
   ]
  },
  {
   "cell_type": "code",
   "execution_count": 7,
   "id": "1d74f1d9-cfcf-4faa-8f83-8701ab40c9dc",
   "metadata": {
    "jupyter": {
     "source_hidden": true
    },
    "tags": []
   },
   "outputs": [
    {
     "name": "stdout",
     "output_type": "stream",
     "text": [
      "\n",
      "The total number of rows in our table is:  2268\n",
      "The total number of columns in our table is:  274\n",
      "\n",
      "---------------------------------------------------------------------------\n",
      "\n",
      "The target state is:  [' California']\n",
      "\n",
      "===========================================================================\n",
      "\n",
      "The number of STATE rows with missing data is:  0\n",
      "The total number of COUNTIES observed is:  53\n",
      "The number of COUNTIES rows with missing data is:  0\n",
      "\n",
      "===========================================================================\n",
      "\n",
      "The date range for this data covers the following year(s):  [2020]\n",
      "\n"
     ]
    }
   ],
   "source": [
    "print('')\n",
    "print('The total number of rows in our table is: ', df.shape[0])\n",
    "print('The total number of columns in our table is: ', df.shape[1])\n",
    "print('')\n",
    "print('-' * 75)\n",
    "print('')\n",
    "unique_states = df['state'].unique()\n",
    "unique_years = df['geoid_year'].unique()\n",
    "print('The target state is: ', unique_states)\n",
    "print('')\n",
    "print('=' * 75)\n",
    "print('')\n",
    "print('The number of STATE rows with missing data is: ', df['state'].isnull().sum())\n",
    "print('The total number of COUNTIES observed is: ', df['county'].nunique())\n",
    "print('The number of COUNTIES rows with missing data is: ', df['county'].isnull().sum())\n",
    "print('')\n",
    "print('=' * 75)\n",
    "print('')\n",
    "print('The date range for this data covers the following year(s): ' ,unique_years)\n",
    "print('')"
   ]
  },
  {
   "cell_type": "markdown",
   "id": "42d26b8e-927f-4de1-8029-c893e03421fd",
   "metadata": {},
   "source": [
    "We confirmed that:\n",
    " - Florida is the only state within the data set\n",
    " - There are ONLY 53 counties in total in the data set, which DOES NOT aligns with US Censue  results of 58 COUNTIES: https://www.census.gov/geographies/reference-files/2010/geo/state-local-geo-guides-2010/california.html\n",
    " - The STATE and COUNTY columns have 0 NaN data"
   ]
  },
  {
   "cell_type": "markdown",
   "id": "9e568bf5-3ada-4ae6-b1bd-dee2bffa9791",
   "metadata": {},
   "source": [
    "To display the df.info output, expand the below:"
   ]
  },
  {
   "cell_type": "code",
   "execution_count": 22,
   "id": "e7933bc2-565b-449a-9ac8-cf65b851adae",
   "metadata": {
    "tags": []
   },
   "outputs": [
    {
     "name": "stdout",
     "output_type": "stream",
     "text": [
      "<class 'pandas.core.frame.DataFrame'>\n",
      "RangeIndex: 2268 entries, 0 to 2267\n",
      "Columns: 274 entries, geoid to toxic_releases_pctile\n",
      "dtypes: float64(216), int64(54), object(4)\n",
      "memory usage: 4.7+ MB\n"
     ]
    }
   ],
   "source": [
    "df.info()"
   ]
  },
  {
   "cell_type": "markdown",
   "id": "21d370fa-9252-4030-939a-18c1ecb928a5",
   "metadata": {},
   "source": [
    "The below code identified the following features using text:\n",
    "- state\n",
    "- county\n",
    "- cdfi_fund_invest_areas\n"
   ]
  },
  {
   "cell_type": "code",
   "execution_count": 71,
   "id": "8f7351ae-bd0d-491a-93bf-2234613fe532",
   "metadata": {
    "tags": []
   },
   "outputs": [],
   "source": [
    "# run below code if you wish to see output\n",
    "# pd.set_option('display.max_rows', None)\n",
    "# print(df.dtypes)"
   ]
  },
  {
   "cell_type": "code",
   "execution_count": 73,
   "id": "050b0753-4ec6-4852-8fcb-8828cd30a622",
   "metadata": {
    "tags": []
   },
   "outputs": [],
   "source": [
    "#reseting code to default row display\n",
    "pd.reset_option('display.max_rows')"
   ]
  },
  {
   "cell_type": "markdown",
   "id": "e366821d-0580-4970-bded-f78b4c1aa7fb",
   "metadata": {},
   "source": [
    "To display the df.describe statistical output, expand below:"
   ]
  },
  {
   "cell_type": "code",
   "execution_count": 12,
   "id": "e87aec3c-0ed0-4f47-a250-c4265983a1dd",
   "metadata": {
    "tags": []
   },
   "outputs": [
    {
     "data": {
      "text/html": [
       "<div>\n",
       "<style scoped>\n",
       "    .dataframe tbody tr th:only-of-type {\n",
       "        vertical-align: middle;\n",
       "    }\n",
       "\n",
       "    .dataframe tbody tr th {\n",
       "        vertical-align: top;\n",
       "    }\n",
       "\n",
       "    .dataframe thead th {\n",
       "        text-align: right;\n",
       "    }\n",
       "</style>\n",
       "<table border=\"1\" class=\"dataframe\">\n",
       "  <thead>\n",
       "    <tr style=\"text-align: right;\">\n",
       "      <th></th>\n",
       "      <th>count</th>\n",
       "      <th>mean</th>\n",
       "      <th>std</th>\n",
       "      <th>min</th>\n",
       "      <th>25%</th>\n",
       "      <th>50%</th>\n",
       "      <th>75%</th>\n",
       "      <th>max</th>\n",
       "    </tr>\n",
       "  </thead>\n",
       "  <tbody>\n",
       "    <tr>\n",
       "      <th>geoid</th>\n",
       "      <td>2268.0</td>\n",
       "      <td>6.054734e+09</td>\n",
       "      <td>2.585741e+07</td>\n",
       "      <td>6.001400e+09</td>\n",
       "      <td>6.037238e+09</td>\n",
       "      <td>6.059074e+09</td>\n",
       "      <td>6.073015e+09</td>\n",
       "      <td>6.111006e+09</td>\n",
       "    </tr>\n",
       "    <tr>\n",
       "      <th>geoid_year</th>\n",
       "      <td>2268.0</td>\n",
       "      <td>2.020000e+03</td>\n",
       "      <td>0.000000e+00</td>\n",
       "      <td>2.020000e+03</td>\n",
       "      <td>2.020000e+03</td>\n",
       "      <td>2.020000e+03</td>\n",
       "      <td>2.020000e+03</td>\n",
       "      <td>2.020000e+03</td>\n",
       "    </tr>\n",
       "    <tr>\n",
       "      <th>state_fips_code</th>\n",
       "      <td>2268.0</td>\n",
       "      <td>6.000000e+00</td>\n",
       "      <td>0.000000e+00</td>\n",
       "      <td>6.000000e+00</td>\n",
       "      <td>6.000000e+00</td>\n",
       "      <td>6.000000e+00</td>\n",
       "      <td>6.000000e+00</td>\n",
       "      <td>6.000000e+00</td>\n",
       "    </tr>\n",
       "    <tr>\n",
       "      <th>county_fips_code</th>\n",
       "      <td>2268.0</td>\n",
       "      <td>5.453792e+01</td>\n",
       "      <td>2.592504e+01</td>\n",
       "      <td>1.000000e+00</td>\n",
       "      <td>3.700000e+01</td>\n",
       "      <td>5.900000e+01</td>\n",
       "      <td>7.300000e+01</td>\n",
       "      <td>1.110000e+02</td>\n",
       "    </tr>\n",
       "    <tr>\n",
       "      <th>hud_opportunity_zones</th>\n",
       "      <td>2268.0</td>\n",
       "      <td>1.027337e-01</td>\n",
       "      <td>3.036777e-01</td>\n",
       "      <td>0.000000e+00</td>\n",
       "      <td>0.000000e+00</td>\n",
       "      <td>0.000000e+00</td>\n",
       "      <td>0.000000e+00</td>\n",
       "      <td>1.000000e+00</td>\n",
       "    </tr>\n",
       "    <tr>\n",
       "      <th>...</th>\n",
       "      <td>...</td>\n",
       "      <td>...</td>\n",
       "      <td>...</td>\n",
       "      <td>...</td>\n",
       "      <td>...</td>\n",
       "      <td>...</td>\n",
       "      <td>...</td>\n",
       "      <td>...</td>\n",
       "    </tr>\n",
       "    <tr>\n",
       "      <th>underground_tanks_pctile</th>\n",
       "      <td>2263.0</td>\n",
       "      <td>2.124083e+01</td>\n",
       "      <td>3.131797e+01</td>\n",
       "      <td>0.000000e+00</td>\n",
       "      <td>0.000000e+00</td>\n",
       "      <td>0.000000e+00</td>\n",
       "      <td>4.700000e+01</td>\n",
       "      <td>9.900000e+01</td>\n",
       "    </tr>\n",
       "    <tr>\n",
       "      <th>air_toxics_resp_ej_pctile</th>\n",
       "      <td>2268.0</td>\n",
       "      <td>6.334127e+01</td>\n",
       "      <td>2.642324e+01</td>\n",
       "      <td>0.000000e+00</td>\n",
       "      <td>4.500000e+01</td>\n",
       "      <td>6.800000e+01</td>\n",
       "      <td>8.600000e+01</td>\n",
       "      <td>9.900000e+01</td>\n",
       "    </tr>\n",
       "    <tr>\n",
       "      <th>air_toxics_resp_pctile</th>\n",
       "      <td>2259.0</td>\n",
       "      <td>4.511996e+01</td>\n",
       "      <td>2.916050e+01</td>\n",
       "      <td>0.000000e+00</td>\n",
       "      <td>3.100000e+01</td>\n",
       "      <td>3.100000e+01</td>\n",
       "      <td>6.900000e+01</td>\n",
       "      <td>9.200000e+01</td>\n",
       "    </tr>\n",
       "    <tr>\n",
       "      <th>toxic_releases_ej_pctile</th>\n",
       "      <td>2262.0</td>\n",
       "      <td>4.960920e+01</td>\n",
       "      <td>3.003086e+01</td>\n",
       "      <td>0.000000e+00</td>\n",
       "      <td>2.200000e+01</td>\n",
       "      <td>5.100000e+01</td>\n",
       "      <td>7.800000e+01</td>\n",
       "      <td>9.900000e+01</td>\n",
       "    </tr>\n",
       "    <tr>\n",
       "      <th>toxic_releases_pctile</th>\n",
       "      <td>2262.0</td>\n",
       "      <td>3.678382e+01</td>\n",
       "      <td>2.494083e+01</td>\n",
       "      <td>0.000000e+00</td>\n",
       "      <td>1.400000e+01</td>\n",
       "      <td>3.400000e+01</td>\n",
       "      <td>5.800000e+01</td>\n",
       "      <td>9.500000e+01</td>\n",
       "    </tr>\n",
       "  </tbody>\n",
       "</table>\n",
       "<p>270 rows × 8 columns</p>\n",
       "</div>"
      ],
      "text/plain": [
       "                            count          mean           std           min  \\\n",
       "geoid                      2268.0  6.054734e+09  2.585741e+07  6.001400e+09   \n",
       "geoid_year                 2268.0  2.020000e+03  0.000000e+00  2.020000e+03   \n",
       "state_fips_code            2268.0  6.000000e+00  0.000000e+00  6.000000e+00   \n",
       "county_fips_code           2268.0  5.453792e+01  2.592504e+01  1.000000e+00   \n",
       "hud_opportunity_zones      2268.0  1.027337e-01  3.036777e-01  0.000000e+00   \n",
       "...                           ...           ...           ...           ...   \n",
       "underground_tanks_pctile   2263.0  2.124083e+01  3.131797e+01  0.000000e+00   \n",
       "air_toxics_resp_ej_pctile  2268.0  6.334127e+01  2.642324e+01  0.000000e+00   \n",
       "air_toxics_resp_pctile     2259.0  4.511996e+01  2.916050e+01  0.000000e+00   \n",
       "toxic_releases_ej_pctile   2262.0  4.960920e+01  3.003086e+01  0.000000e+00   \n",
       "toxic_releases_pctile      2262.0  3.678382e+01  2.494083e+01  0.000000e+00   \n",
       "\n",
       "                                    25%           50%           75%  \\\n",
       "geoid                      6.037238e+09  6.059074e+09  6.073015e+09   \n",
       "geoid_year                 2.020000e+03  2.020000e+03  2.020000e+03   \n",
       "state_fips_code            6.000000e+00  6.000000e+00  6.000000e+00   \n",
       "county_fips_code           3.700000e+01  5.900000e+01  7.300000e+01   \n",
       "hud_opportunity_zones      0.000000e+00  0.000000e+00  0.000000e+00   \n",
       "...                                 ...           ...           ...   \n",
       "underground_tanks_pctile   0.000000e+00  0.000000e+00  4.700000e+01   \n",
       "air_toxics_resp_ej_pctile  4.500000e+01  6.800000e+01  8.600000e+01   \n",
       "air_toxics_resp_pctile     3.100000e+01  3.100000e+01  6.900000e+01   \n",
       "toxic_releases_ej_pctile   2.200000e+01  5.100000e+01  7.800000e+01   \n",
       "toxic_releases_pctile      1.400000e+01  3.400000e+01  5.800000e+01   \n",
       "\n",
       "                                    max  \n",
       "geoid                      6.111006e+09  \n",
       "geoid_year                 2.020000e+03  \n",
       "state_fips_code            6.000000e+00  \n",
       "county_fips_code           1.110000e+02  \n",
       "hud_opportunity_zones      1.000000e+00  \n",
       "...                                 ...  \n",
       "underground_tanks_pctile   9.900000e+01  \n",
       "air_toxics_resp_ej_pctile  9.900000e+01  \n",
       "air_toxics_resp_pctile     9.200000e+01  \n",
       "toxic_releases_ej_pctile   9.900000e+01  \n",
       "toxic_releases_pctile      9.500000e+01  \n",
       "\n",
       "[270 rows x 8 columns]"
      ]
     },
     "execution_count": 12,
     "metadata": {},
     "output_type": "execute_result"
    }
   ],
   "source": [
    "df.describe().T"
   ]
  },
  {
   "cell_type": "markdown",
   "id": "c1d59b46-268f-4cd3-896a-4a8c5f63d5c3",
   "metadata": {},
   "source": [
    "## Missing Data Check"
   ]
  },
  {
   "cell_type": "code",
   "execution_count": 26,
   "id": "3ec079ae-1a7f-46bd-bcd8-6b03e81d4615",
   "metadata": {
    "tags": []
   },
   "outputs": [
    {
     "data": {
      "text/plain": [
       "Index(['energy_burden', 'exp_build_loss_rate', 'exp_pop_loss_rate',\n",
       "       'fire_risk_30yr_share', 'flood_risk_30yr_share', 'air_toxics_cancer',\n",
       "       'diesel_pm', 'traffic_prox_ej', 'traffic_prox', 'med_property_value',\n",
       "       'num_mortgage_loans', 'num_mortgage_denials', 'num_mortgages_origin',\n",
       "       'num_sba_504_loans', 'num_sba_7a_loans', 'total_cdfi_lending',\n",
       "       'med_mortgage_loan', 'med_sba_504_loan', 'med_sba_7a_loan',\n",
       "       'wastewater_ej', 'wastewater', 'underground_tanks_ej',\n",
       "       'underground_tanks', 'air_toxics_cancer_pctile',\n",
       "       'traffic_prox_ej_pctile', 'traffic_prox_pctile', 'wastewater_ej_pctile',\n",
       "       'wastewater_pctile', 'underground_tanks_ej_pctile',\n",
       "       'underground_tanks_pctile', 'air_toxics_resp_pctile',\n",
       "       'toxic_releases_ej_pctile', 'toxic_releases_pctile'],\n",
       "      dtype='object')"
      ]
     },
     "execution_count": 26,
     "metadata": {},
     "output_type": "execute_result"
    }
   ],
   "source": [
    "# checking to see if any features are missing columns\n",
    "df.columns[df.isnull().any()]"
   ]
  },
  {
   "cell_type": "markdown",
   "id": "8a12e0ce-e722-4474-9081-8e957d0515ed",
   "metadata": {},
   "source": [
    "We see that we have a number of features missing data. We need to explore if the number of missing data elements can statistically impact any of our analysis."
   ]
  },
  {
   "cell_type": "code",
   "execution_count": 33,
   "id": "752059c3-0af3-42db-ac65-46321565a7a7",
   "metadata": {
    "jupyter": {
     "source_hidden": true
    },
    "tags": []
   },
   "outputs": [
    {
     "data": {
      "text/html": [
       "<div>\n",
       "<style scoped>\n",
       "    .dataframe tbody tr th:only-of-type {\n",
       "        vertical-align: middle;\n",
       "    }\n",
       "\n",
       "    .dataframe tbody tr th {\n",
       "        vertical-align: top;\n",
       "    }\n",
       "\n",
       "    .dataframe thead th {\n",
       "        text-align: right;\n",
       "    }\n",
       "</style>\n",
       "<table border=\"1\" class=\"dataframe\">\n",
       "  <thead>\n",
       "    <tr style=\"text-align: right;\">\n",
       "      <th></th>\n",
       "      <th>Missing Data Count</th>\n",
       "      <th>Missing Data Percentage</th>\n",
       "    </tr>\n",
       "  </thead>\n",
       "  <tbody>\n",
       "    <tr>\n",
       "      <th>med_sba_504_loan</th>\n",
       "      <td>1116</td>\n",
       "      <td>49.206349</td>\n",
       "    </tr>\n",
       "    <tr>\n",
       "      <th>num_sba_504_loans</th>\n",
       "      <td>1116</td>\n",
       "      <td>49.206349</td>\n",
       "    </tr>\n",
       "    <tr>\n",
       "      <th>med_sba_7a_loan</th>\n",
       "      <td>570</td>\n",
       "      <td>25.132275</td>\n",
       "    </tr>\n",
       "    <tr>\n",
       "      <th>num_sba_7a_loans</th>\n",
       "      <td>570</td>\n",
       "      <td>25.132275</td>\n",
       "    </tr>\n",
       "    <tr>\n",
       "      <th>total_cdfi_lending</th>\n",
       "      <td>143</td>\n",
       "      <td>6.305115</td>\n",
       "    </tr>\n",
       "    <tr>\n",
       "      <th>wastewater_ej</th>\n",
       "      <td>125</td>\n",
       "      <td>5.511464</td>\n",
       "    </tr>\n",
       "    <tr>\n",
       "      <th>wastewater_pctile</th>\n",
       "      <td>125</td>\n",
       "      <td>5.511464</td>\n",
       "    </tr>\n",
       "    <tr>\n",
       "      <th>wastewater_ej_pctile</th>\n",
       "      <td>125</td>\n",
       "      <td>5.511464</td>\n",
       "    </tr>\n",
       "    <tr>\n",
       "      <th>wastewater</th>\n",
       "      <td>125</td>\n",
       "      <td>5.511464</td>\n",
       "    </tr>\n",
       "    <tr>\n",
       "      <th>med_property_value</th>\n",
       "      <td>31</td>\n",
       "      <td>1.366843</td>\n",
       "    </tr>\n",
       "    <tr>\n",
       "      <th>num_mortgages_origin</th>\n",
       "      <td>25</td>\n",
       "      <td>1.102293</td>\n",
       "    </tr>\n",
       "    <tr>\n",
       "      <th>med_mortgage_loan</th>\n",
       "      <td>25</td>\n",
       "      <td>1.102293</td>\n",
       "    </tr>\n",
       "    <tr>\n",
       "      <th>num_mortgage_denials</th>\n",
       "      <td>25</td>\n",
       "      <td>1.102293</td>\n",
       "    </tr>\n",
       "    <tr>\n",
       "      <th>num_mortgage_loans</th>\n",
       "      <td>25</td>\n",
       "      <td>1.102293</td>\n",
       "    </tr>\n",
       "    <tr>\n",
       "      <th>traffic_prox</th>\n",
       "      <td>12</td>\n",
       "      <td>0.529101</td>\n",
       "    </tr>\n",
       "    <tr>\n",
       "      <th>traffic_prox_ej</th>\n",
       "      <td>12</td>\n",
       "      <td>0.529101</td>\n",
       "    </tr>\n",
       "    <tr>\n",
       "      <th>traffic_prox_ej_pctile</th>\n",
       "      <td>12</td>\n",
       "      <td>0.529101</td>\n",
       "    </tr>\n",
       "    <tr>\n",
       "      <th>traffic_prox_pctile</th>\n",
       "      <td>12</td>\n",
       "      <td>0.529101</td>\n",
       "    </tr>\n",
       "    <tr>\n",
       "      <th>air_toxics_cancer_pctile</th>\n",
       "      <td>9</td>\n",
       "      <td>0.396825</td>\n",
       "    </tr>\n",
       "    <tr>\n",
       "      <th>air_toxics_resp_pctile</th>\n",
       "      <td>9</td>\n",
       "      <td>0.396825</td>\n",
       "    </tr>\n",
       "    <tr>\n",
       "      <th>energy_burden</th>\n",
       "      <td>9</td>\n",
       "      <td>0.396825</td>\n",
       "    </tr>\n",
       "    <tr>\n",
       "      <th>diesel_pm</th>\n",
       "      <td>9</td>\n",
       "      <td>0.396825</td>\n",
       "    </tr>\n",
       "    <tr>\n",
       "      <th>air_toxics_cancer</th>\n",
       "      <td>9</td>\n",
       "      <td>0.396825</td>\n",
       "    </tr>\n",
       "    <tr>\n",
       "      <th>exp_pop_loss_rate</th>\n",
       "      <td>6</td>\n",
       "      <td>0.264550</td>\n",
       "    </tr>\n",
       "    <tr>\n",
       "      <th>toxic_releases_ej_pctile</th>\n",
       "      <td>6</td>\n",
       "      <td>0.264550</td>\n",
       "    </tr>\n",
       "    <tr>\n",
       "      <th>toxic_releases_pctile</th>\n",
       "      <td>6</td>\n",
       "      <td>0.264550</td>\n",
       "    </tr>\n",
       "    <tr>\n",
       "      <th>underground_tanks_ej</th>\n",
       "      <td>5</td>\n",
       "      <td>0.220459</td>\n",
       "    </tr>\n",
       "    <tr>\n",
       "      <th>underground_tanks</th>\n",
       "      <td>5</td>\n",
       "      <td>0.220459</td>\n",
       "    </tr>\n",
       "    <tr>\n",
       "      <th>exp_build_loss_rate</th>\n",
       "      <td>5</td>\n",
       "      <td>0.220459</td>\n",
       "    </tr>\n",
       "    <tr>\n",
       "      <th>flood_risk_30yr_share</th>\n",
       "      <td>5</td>\n",
       "      <td>0.220459</td>\n",
       "    </tr>\n",
       "    <tr>\n",
       "      <th>fire_risk_30yr_share</th>\n",
       "      <td>5</td>\n",
       "      <td>0.220459</td>\n",
       "    </tr>\n",
       "    <tr>\n",
       "      <th>underground_tanks_ej_pctile</th>\n",
       "      <td>5</td>\n",
       "      <td>0.220459</td>\n",
       "    </tr>\n",
       "    <tr>\n",
       "      <th>underground_tanks_pctile</th>\n",
       "      <td>5</td>\n",
       "      <td>0.220459</td>\n",
       "    </tr>\n",
       "  </tbody>\n",
       "</table>\n",
       "</div>"
      ],
      "text/plain": [
       "                             Missing Data Count  Missing Data Percentage\n",
       "med_sba_504_loan                           1116                49.206349\n",
       "num_sba_504_loans                          1116                49.206349\n",
       "med_sba_7a_loan                             570                25.132275\n",
       "num_sba_7a_loans                            570                25.132275\n",
       "total_cdfi_lending                          143                 6.305115\n",
       "wastewater_ej                               125                 5.511464\n",
       "wastewater_pctile                           125                 5.511464\n",
       "wastewater_ej_pctile                        125                 5.511464\n",
       "wastewater                                  125                 5.511464\n",
       "med_property_value                           31                 1.366843\n",
       "num_mortgages_origin                         25                 1.102293\n",
       "med_mortgage_loan                            25                 1.102293\n",
       "num_mortgage_denials                         25                 1.102293\n",
       "num_mortgage_loans                           25                 1.102293\n",
       "traffic_prox                                 12                 0.529101\n",
       "traffic_prox_ej                              12                 0.529101\n",
       "traffic_prox_ej_pctile                       12                 0.529101\n",
       "traffic_prox_pctile                          12                 0.529101\n",
       "air_toxics_cancer_pctile                      9                 0.396825\n",
       "air_toxics_resp_pctile                        9                 0.396825\n",
       "energy_burden                                 9                 0.396825\n",
       "diesel_pm                                     9                 0.396825\n",
       "air_toxics_cancer                             9                 0.396825\n",
       "exp_pop_loss_rate                             6                 0.264550\n",
       "toxic_releases_ej_pctile                      6                 0.264550\n",
       "toxic_releases_pctile                         6                 0.264550\n",
       "underground_tanks_ej                          5                 0.220459\n",
       "underground_tanks                             5                 0.220459\n",
       "exp_build_loss_rate                           5                 0.220459\n",
       "flood_risk_30yr_share                         5                 0.220459\n",
       "fire_risk_30yr_share                          5                 0.220459\n",
       "underground_tanks_ej_pctile                   5                 0.220459\n",
       "underground_tanks_pctile                      5                 0.220459"
      ]
     },
     "execution_count": 33,
     "metadata": {},
     "output_type": "execute_result"
    }
   ],
   "source": [
    "import pandas as pd\n",
    "\n",
    "# Function to get insights on the missing data \n",
    "def missing_data_summary(df):\n",
    "    # Calculate missing data count\n",
    "    missing_count = df.isna().sum()\n",
    "    \n",
    "    # Calculate missing data percentage\n",
    "    missing_percentage = (missing_count / len(df)) * 100\n",
    "    \n",
    "    # New DataFrame with the missing data count and percentage\n",
    "    missing_summary = pd.DataFrame({\n",
    "        'Missing Data Count': missing_count,\n",
    "        'Missing Data Percentage': missing_percentage\n",
    "    })\n",
    "    \n",
    "    # Filter out columns with no missing data\n",
    "    missing_summary = missing_summary[missing_summary['Missing Data Count'] > 0]\n",
    "    \n",
    "    # Sort by the highest percentage of missing data\n",
    "    missing_summary = missing_summary.sort_values(by='Missing Data Percentage', ascending=False)\n",
    "    \n",
    "    return missing_summary\n",
    "\n",
    "# Example usage\n",
    "missing_summary_df = missing_data_summary(df)\n",
    "missing_summary_df\n"
   ]
  },
  {
   "cell_type": "markdown",
   "id": "1eaf67d2-396d-4018-bec9-3cb0a2d90e5e",
   "metadata": {},
   "source": [
    "### Missing Data Impact\n",
    "\n",
    "The features that are impacted the most due to missing data are: \n",
    "- SBA 504 Loan - Small Business Loan (49%)\n",
    "- SBA 7(a) Loan - Small Business Loan (25%)\n",
    "- CDFI Lending - Community Development Financial Institution Lending (6%)\n",
    "- Wastwater EJ - Wastewate Environmental Justice (5.5%)\n",
    "\n",
    "When performing any analysis on these features, we will need to be aware of this and plan accordingly. The remaining features missing data is expected to have less of an impact."
   ]
  },
  {
   "cell_type": "markdown",
   "id": "561311d1-1fec-490d-b118-bcd4578b379a",
   "metadata": {},
   "source": [
    "### '0' Value Data\n",
    "\n",
    "We should also check to see are there any columns that currently uses the value '0'"
   ]
  },
  {
   "cell_type": "code",
   "execution_count": 56,
   "id": "eb8d5531-cd45-479f-b6e6-db8b7c1a689c",
   "metadata": {
    "tags": []
   },
   "outputs": [
    {
     "name": "stdout",
     "output_type": "stream",
     "text": [
      "Index(['hud_opportunity_zones', 'energy_burden', 'energy_burden_pctile',\n",
      "       'exp_build_loss_rate', 'exp_build_loss_rate_pctile',\n",
      "       'exp_pop_loss_rate', 'exp_pop_loss_rate_pctile', 'fire_risk_30yr_share',\n",
      "       'fire_risk_30yr_pctile', 'flood_risk_30yr_share',\n",
      "       ...\n",
      "       'haz_waste_prox_ej_pctile', 'haz_waste_prox_pctile',\n",
      "       'wastewater_ej_pctile', 'wastewater_pctile',\n",
      "       'underground_tanks_ej_pctile', 'underground_tanks_pctile',\n",
      "       'air_toxics_resp_ej_pctile', 'air_toxics_resp_pctile',\n",
      "       'toxic_releases_ej_pctile', 'toxic_releases_pctile'],\n",
      "      dtype='object', length=121)\n"
     ]
    }
   ],
   "source": [
    "# find columns that contains value of '0'\n",
    "columns_with_zeros = df.columns[(df==0).any()]\n",
    "print(columns_with_zeros)"
   ]
  },
  {
   "cell_type": "code",
   "execution_count": 60,
   "id": "c9821672-5813-4de2-a39b-1b4963318372",
   "metadata": {
    "tags": []
   },
   "outputs": [
    {
     "name": "stdout",
     "output_type": "stream",
     "text": [
      "There are 121 columns with zero values\n"
     ]
    }
   ],
   "source": [
    "# we see from above that we have a quite a few columns that were identified. To better understand, we will now count how many were identified.\n",
    "column_list = columns_with_zeros.tolist()\n",
    "print(f'There are {len(column_list)} columns with zero values')"
   ]
  },
  {
   "cell_type": "markdown",
   "id": "bc22bcd8-88fa-49f7-a6e8-4d2f1c3694a9",
   "metadata": {},
   "source": [
    "## Interpreting JAM Values as N/A vs NaN Data Occurences\n",
    "\n",
    "As we can see from the above, there are actual missing values in the data set. However, the data does use negative values with repeating schemes to represent 'Jam Values'.\n",
    "\n",
    "### Understanding Jam Values\n",
    "\n",
    "The Census Department utilizes specific negative values to represent cases where the sample is too small, non-computational entries, not applicable or not available data, as well as data being treated as zero. A detailed breakdown can be found here: https://www2.census.gov/programs-surveys/acs/tech_docs/jam_values/2022_Jam_Values.xlsx\n",
    "\n",
    "For example, if we were to look at one feature in our dataset, med_inc_ai_an_moe, and display the output:"
   ]
  },
  {
   "cell_type": "code",
   "execution_count": 37,
   "id": "387f003f-5ed3-421c-8795-473cfa5c792d",
   "metadata": {
    "tags": []
   },
   "outputs": [
    {
     "data": {
      "text/html": [
       "<div>\n",
       "<style scoped>\n",
       "    .dataframe tbody tr th:only-of-type {\n",
       "        vertical-align: middle;\n",
       "    }\n",
       "\n",
       "    .dataframe tbody tr th {\n",
       "        vertical-align: top;\n",
       "    }\n",
       "\n",
       "    .dataframe thead th {\n",
       "        text-align: right;\n",
       "    }\n",
       "</style>\n",
       "<table border=\"1\" class=\"dataframe\">\n",
       "  <thead>\n",
       "    <tr style=\"text-align: right;\">\n",
       "      <th></th>\n",
       "      <th>0</th>\n",
       "      <th>1</th>\n",
       "      <th>2</th>\n",
       "      <th>3</th>\n",
       "      <th>4</th>\n",
       "      <th>5</th>\n",
       "      <th>6</th>\n",
       "      <th>7</th>\n",
       "      <th>8</th>\n",
       "      <th>9</th>\n",
       "    </tr>\n",
       "  </thead>\n",
       "  <tbody>\n",
       "    <tr>\n",
       "      <th>med_inc_asian_est</th>\n",
       "      <td>250001</td>\n",
       "      <td>221250</td>\n",
       "      <td>-666666666</td>\n",
       "      <td>124205</td>\n",
       "      <td>139922</td>\n",
       "      <td>-666666666</td>\n",
       "      <td>-666666666</td>\n",
       "      <td>-666666666</td>\n",
       "      <td>14740</td>\n",
       "      <td>124286</td>\n",
       "    </tr>\n",
       "    <tr>\n",
       "      <th>geoid</th>\n",
       "      <td>6001400200</td>\n",
       "      <td>6001400600</td>\n",
       "      <td>6001401400</td>\n",
       "      <td>6001401600</td>\n",
       "      <td>6001401700</td>\n",
       "      <td>6001401800</td>\n",
       "      <td>6001402200</td>\n",
       "      <td>6001402400</td>\n",
       "      <td>6001402900</td>\n",
       "      <td>6001403302</td>\n",
       "    </tr>\n",
       "    <tr>\n",
       "      <th>county</th>\n",
       "      <td>Alameda County</td>\n",
       "      <td>Alameda County</td>\n",
       "      <td>Alameda County</td>\n",
       "      <td>Alameda County</td>\n",
       "      <td>Alameda County</td>\n",
       "      <td>Alameda County</td>\n",
       "      <td>Alameda County</td>\n",
       "      <td>Alameda County</td>\n",
       "      <td>Alameda County</td>\n",
       "      <td>Alameda County</td>\n",
       "    </tr>\n",
       "  </tbody>\n",
       "</table>\n",
       "</div>"
      ],
      "text/plain": [
       "                                 0                1                2  \\\n",
       "med_inc_asian_est           250001           221250       -666666666   \n",
       "geoid                   6001400200       6001400600       6001401400   \n",
       "county              Alameda County   Alameda County   Alameda County   \n",
       "\n",
       "                                 3                4                5  \\\n",
       "med_inc_asian_est           124205           139922       -666666666   \n",
       "geoid                   6001401600       6001401700       6001401800   \n",
       "county              Alameda County   Alameda County   Alameda County   \n",
       "\n",
       "                                 6                7                8  \\\n",
       "med_inc_asian_est       -666666666       -666666666            14740   \n",
       "geoid                   6001402200       6001402400       6001402900   \n",
       "county              Alameda County   Alameda County   Alameda County   \n",
       "\n",
       "                                 9  \n",
       "med_inc_asian_est           124286  \n",
       "geoid                   6001403302  \n",
       "county              Alameda County  "
      ]
     },
     "execution_count": 37,
     "metadata": {},
     "output_type": "execute_result"
    }
   ],
   "source": [
    "df[['med_inc_asian_est','geoid','county']].head(10).T"
   ]
  },
  {
   "cell_type": "markdown",
   "id": "8115981e-a72a-4e04-ad7d-aff3e7554544",
   "metadata": {},
   "source": [
    "The feature, med_inc_asian_est, represents \n",
    "- ACS - Median Household Income last 12 months (in 2022 Inflation-Adjusted Dollars) - By Race of Householder - Asian - Estimate\n",
    "- The value, -666666666, is used to represent that the estimate was not computed due to insufficient number of sample cases.\n",
    "\n",
    "According to the data dictionary provided. We can see that we have a sequence of negative numbers with repeating patterns, in this case, -666666666.  In this case, it means that for the associated county/geoid, there were no Asians represented at the time the data was collected. We can estrapolate this out further to understand the diversity of specific counties and GEOID tracts as we evaluate the data."
   ]
  },
  {
   "cell_type": "markdown",
   "id": "fc833e78-4f94-43d2-9588-346602d7ac9b",
   "metadata": {},
   "source": [
    "### Managing Jam Values\n",
    "\n",
    "The current governance of Jam values does limit how we will interpret some of the data. In some cases, we may want to replace the negative Jam values while performing statiscal or other types of analysis. One option explored was to replace the jam values with 0, HOWEVER, this is not to substitute replace the meaning of the Jam value, it is ONLY TO PERFORM ANALYTICAL MEASUREMENTS.\n",
    "\n",
    "We do not equate the '0' replacement Jam values, with existing usages of '0' in the data set. For example. we see that the following three features, uses 0, as values:\n",
    "- lihtc_qualified_tracts\n",
    "- num_mortgage_denials\n",
    "- num_mortgages_origin\n",
    "\n",
    "With that in mind, we must be cognizant when to use the Jam values, and when to modify the values for analysis."
   ]
  },
  {
   "cell_type": "code",
   "execution_count": 39,
   "id": "af6bb247-9eab-493e-aea7-32dd0018c57e",
   "metadata": {
    "tags": []
   },
   "outputs": [
    {
     "name": "stdout",
     "output_type": "stream",
     "text": [
      "Index(['hud_opportunity_zones', 'energy_burden', 'energy_burden_pctile',\n",
      "       'exp_build_loss_rate', 'exp_build_loss_rate_pctile',\n",
      "       'exp_pop_loss_rate', 'exp_pop_loss_rate_pctile', 'fire_risk_30yr_share',\n",
      "       'fire_risk_30yr_pctile', 'flood_risk_30yr_share',\n",
      "       ...\n",
      "       'haz_waste_prox_ej_pctile', 'haz_waste_prox_pctile',\n",
      "       'wastewater_ej_pctile', 'wastewater_pctile',\n",
      "       'underground_tanks_ej_pctile', 'underground_tanks_pctile',\n",
      "       'air_toxics_resp_ej_pctile', 'air_toxics_resp_pctile',\n",
      "       'toxic_releases_ej_pctile', 'toxic_releases_pctile'],\n",
      "      dtype='object', length=121)\n"
     ]
    }
   ],
   "source": [
    "# the following code was used to find existing '0' value entries in the data set\n",
    "zero_mask = df == 0\n",
    "# find columns that has at least one zero value\n",
    "columns_with_zeros = df.loc[:, zero_mask.any(axis=0)]\n",
    "print(columns_with_zeros.columns)"
   ]
  },
  {
   "cell_type": "markdown",
   "id": "d1aa450f-c653-4786-bbd0-1bc4e5594b73",
   "metadata": {},
   "source": [
    "### Managing NaN Rows and Zeroing Jam Values\n",
    "In the following, let's create a subset dataframe that zeros out the NaN and Jam values. We will take this into account when performing analysis on SBA and Wastewater EJ metrics."
   ]
  },
  {
   "cell_type": "code",
   "execution_count": 75,
   "id": "475efb53-ec9f-43b7-bda9-2de9f9eb7470",
   "metadata": {
    "tags": []
   },
   "outputs": [
    {
     "data": {
      "text/html": [
       "<div>\n",
       "<style scoped>\n",
       "    .dataframe tbody tr th:only-of-type {\n",
       "        vertical-align: middle;\n",
       "    }\n",
       "\n",
       "    .dataframe tbody tr th {\n",
       "        vertical-align: top;\n",
       "    }\n",
       "\n",
       "    .dataframe thead th {\n",
       "        text-align: right;\n",
       "    }\n",
       "</style>\n",
       "<table border=\"1\" class=\"dataframe\">\n",
       "  <thead>\n",
       "    <tr style=\"text-align: right;\">\n",
       "      <th></th>\n",
       "      <th>0</th>\n",
       "      <th>1</th>\n",
       "      <th>2</th>\n",
       "      <th>3</th>\n",
       "      <th>4</th>\n",
       "    </tr>\n",
       "  </thead>\n",
       "  <tbody>\n",
       "    <tr>\n",
       "      <th>geoid</th>\n",
       "      <td>6001400200</td>\n",
       "      <td>6001400600</td>\n",
       "      <td>6001401400</td>\n",
       "      <td>6001401600</td>\n",
       "      <td>6001401700</td>\n",
       "    </tr>\n",
       "    <tr>\n",
       "      <th>geoid_year</th>\n",
       "      <td>2020</td>\n",
       "      <td>2020</td>\n",
       "      <td>2020</td>\n",
       "      <td>2020</td>\n",
       "      <td>2020</td>\n",
       "    </tr>\n",
       "    <tr>\n",
       "      <th>state</th>\n",
       "      <td>California</td>\n",
       "      <td>California</td>\n",
       "      <td>California</td>\n",
       "      <td>California</td>\n",
       "      <td>California</td>\n",
       "    </tr>\n",
       "    <tr>\n",
       "      <th>county</th>\n",
       "      <td>Alameda County</td>\n",
       "      <td>Alameda County</td>\n",
       "      <td>Alameda County</td>\n",
       "      <td>Alameda County</td>\n",
       "      <td>Alameda County</td>\n",
       "    </tr>\n",
       "    <tr>\n",
       "      <th>state_fips_code</th>\n",
       "      <td>6</td>\n",
       "      <td>6</td>\n",
       "      <td>6</td>\n",
       "      <td>6</td>\n",
       "      <td>6</td>\n",
       "    </tr>\n",
       "    <tr>\n",
       "      <th>...</th>\n",
       "      <td>...</td>\n",
       "      <td>...</td>\n",
       "      <td>...</td>\n",
       "      <td>...</td>\n",
       "      <td>...</td>\n",
       "    </tr>\n",
       "    <tr>\n",
       "      <th>underground_tanks_pctile</th>\n",
       "      <td>89.0</td>\n",
       "      <td>66.0</td>\n",
       "      <td>95.0</td>\n",
       "      <td>98.0</td>\n",
       "      <td>93.0</td>\n",
       "    </tr>\n",
       "    <tr>\n",
       "      <th>air_toxics_resp_ej_pctile</th>\n",
       "      <td>40.0</td>\n",
       "      <td>56.0</td>\n",
       "      <td>72.0</td>\n",
       "      <td>71.0</td>\n",
       "      <td>62.0</td>\n",
       "    </tr>\n",
       "    <tr>\n",
       "      <th>air_toxics_resp_pctile</th>\n",
       "      <td>31.0</td>\n",
       "      <td>31.0</td>\n",
       "      <td>31.0</td>\n",
       "      <td>31.0</td>\n",
       "      <td>31.0</td>\n",
       "    </tr>\n",
       "    <tr>\n",
       "      <th>toxic_releases_ej_pctile</th>\n",
       "      <td>41.0</td>\n",
       "      <td>65.0</td>\n",
       "      <td>80.0</td>\n",
       "      <td>79.0</td>\n",
       "      <td>69.0</td>\n",
       "    </tr>\n",
       "    <tr>\n",
       "      <th>toxic_releases_pctile</th>\n",
       "      <td>53.0</td>\n",
       "      <td>53.0</td>\n",
       "      <td>49.0</td>\n",
       "      <td>49.0</td>\n",
       "      <td>49.0</td>\n",
       "    </tr>\n",
       "  </tbody>\n",
       "</table>\n",
       "<p>274 rows × 5 columns</p>\n",
       "</div>"
      ],
      "text/plain": [
       "                                         0                1                2  \\\n",
       "geoid                           6001400200       6001400600       6001401400   \n",
       "geoid_year                            2020             2020             2020   \n",
       "state                           California       California       California   \n",
       "county                      Alameda County   Alameda County   Alameda County   \n",
       "state_fips_code                          6                6                6   \n",
       "...                                    ...              ...              ...   \n",
       "underground_tanks_pctile              89.0             66.0             95.0   \n",
       "air_toxics_resp_ej_pctile             40.0             56.0             72.0   \n",
       "air_toxics_resp_pctile                31.0             31.0             31.0   \n",
       "toxic_releases_ej_pctile              41.0             65.0             80.0   \n",
       "toxic_releases_pctile                 53.0             53.0             49.0   \n",
       "\n",
       "                                         3                4  \n",
       "geoid                           6001401600       6001401700  \n",
       "geoid_year                            2020             2020  \n",
       "state                           California       California  \n",
       "county                      Alameda County   Alameda County  \n",
       "state_fips_code                          6                6  \n",
       "...                                    ...              ...  \n",
       "underground_tanks_pctile              98.0             93.0  \n",
       "air_toxics_resp_ej_pctile             71.0             62.0  \n",
       "air_toxics_resp_pctile                31.0             31.0  \n",
       "toxic_releases_ej_pctile              79.0             69.0  \n",
       "toxic_releases_pctile                 49.0             49.0  \n",
       "\n",
       "[274 rows x 5 columns]"
      ]
     },
     "execution_count": 75,
     "metadata": {},
     "output_type": "execute_result"
    }
   ],
   "source": [
    "# replacing missing values with 0s\n",
    "df_zeros = df.fillna('0')\n",
    "# excluding my features that are objects.strings\n",
    "exclude_columns = ['state', 'county','cdfi_fund_invest_areas']\n",
    "numerical_df = df_zeros.select_dtypes(include=[np.number]).drop(columns=exclude_columns, errors='ignore')\n",
    "# setting my Jam Values to the value of 0\n",
    "numerical_df = numerical_df.clip(lower=0)\n",
    "# combining back to my df_zeros df\n",
    "df_zeros.loc[:, numerical_df.columns] = numerical_df\n",
    "# printing \n",
    "df_zeros.head(5).T"
   ]
  },
  {
   "cell_type": "markdown",
   "id": "5ba01773-4e23-4071-acee-579e01a14bd4",
   "metadata": {},
   "source": [
    "Sanity check to make sure no negative values are present. Expand below for results to see that there are 0 entires with negative values."
   ]
  },
  {
   "cell_type": "code",
   "execution_count": 77,
   "id": "ea2dfa2d-78f2-432b-b4b1-435f54806d21",
   "metadata": {
    "tags": []
   },
   "outputs": [
    {
     "name": "stdout",
     "output_type": "stream",
     "text": [
      "geoid                          0.0\n",
      "geoid_year                     0.0\n",
      "state_fips_code                0.0\n",
      "county_fips_code               0.0\n",
      "hud_opportunity_zones          0.0\n",
      "                              ... \n",
      "rmp_facility_prox_ej_pctile    0.0\n",
      "rmp_facility_prox_pctile       0.0\n",
      "haz_waste_prox_ej_pctile       0.0\n",
      "haz_waste_prox_pctile          0.0\n",
      "air_toxics_resp_ej_pctile      0.0\n",
      "Length: 237, dtype: float64\n"
     ]
    }
   ],
   "source": [
    "# checking to make sure no negative numbers remained\n",
    "print(numerical_df[numerical_df < 0].sum())"
   ]
  },
  {
   "cell_type": "code",
   "execution_count": 79,
   "id": "2820fccb-f093-4072-9dd1-6e5b5d083af7",
   "metadata": {
    "tags": []
   },
   "outputs": [
    {
     "data": {
      "text/plain": [
       "(2268, 274)"
      ]
     },
     "execution_count": 79,
     "metadata": {},
     "output_type": "execute_result"
    }
   ],
   "source": [
    "# reconfirming size of dataframe\n",
    "df_zeros.shape"
   ]
  },
  {
   "cell_type": "markdown",
   "id": "3b5bad51-0016-4139-955a-bacee1b605ab",
   "metadata": {},
   "source": [
    "# Simple Visualizations\n",
    "\n",
    "A simple exploration of our modified data set to explore some straightforward use cases"
   ]
  },
  {
   "cell_type": "markdown",
   "id": "1ab7f211-504d-476f-a0a9-de4170bf5f63",
   "metadata": {},
   "source": [
    "## Income Diverity by Sex and Race"
   ]
  },
  {
   "cell_type": "code",
   "execution_count": 81,
   "id": "610cad10-dafe-4ad9-8c57-2ab634ec4e2f",
   "metadata": {
    "tags": []
   },
   "outputs": [
    {
     "data": {
      "image/png": "[encoded data removed]",
      "text/plain": [
       "<Figure size 1200x600 with 1 Axes>"
      ]
     },
     "metadata": {},
     "output_type": "display_data"
    }
   ],
   "source": [
    "visuals = df_zeros\n",
    "general_income_mask = ['earn_med_est','earn_med_male_est', 'earn_med_fem_est','med_inc_white_est','med_inc_black_est', 'med_hh_inc_est', 'med_inc_asian_est']\n",
    "plt.figure(figsize=(12,6))\n",
    "sns.boxplot(data=visuals[general_income_mask], showfliers=True)\n",
    "\n",
    "\n",
    "plt.title('Median Income by Diversity', fontsize=20)\n",
    "plt.xlabel('Income Categories', fontsize=14)\n",
    "plt.ylabel('Last 12 Months Income ', fontsize=14)\n",
    "plt.xticks(rotation=45, horizontalalignment='right')\n",
    "plt.tight_layout()\n",
    "plt.show()"
   ]
  },
  {
   "cell_type": "code",
   "execution_count": 37,
   "id": "e928c815-a0a3-4012-9e7c-a49d90dea0ca",
   "metadata": {
    "tags": []
   },
   "outputs": [
    {
     "name": "stdout",
     "output_type": "stream",
     "text": [
      "earn_med_est         250001\n",
      "earn_med_male_est    250001\n",
      "earn_med_fem_est     115788\n",
      "med_inc_white_est    250001\n",
      "med_inc_black_est    250001\n",
      "med_hh_inc_est       250001\n",
      "med_inc_asian_est    250001\n",
      "dtype: int64\n"
     ]
    }
   ],
   "source": [
    "# sanity check to find the max values of each feature\n",
    "max_values = visuals[general_income_mask].max()\n",
    "print(max_values)"
   ]
  },
  {
   "cell_type": "markdown",
   "id": "43ce86a6-8a1e-4a5c-9e38-479fb725a854",
   "metadata": {},
   "source": [
    "### Analysis of the Box Plot: \"Median Income by Diversity\"\n",
    "\n",
    "The box plot visualizes the distribution of median income across various demographic groups, highlighting income disparities based on gender and race/ethnicity.\n",
    "\n",
    "### Detailed Observations:\n",
    "\n",
    "1. **Axes:**\n",
    "   - **X-Axis (Income Categories):** Represents various demographic groups:\n",
    "     - `earn_med_est`: Median income for all individuals.\n",
    "     - `earn_med_male_est`: Median income for males.\n",
    "     - `earn_med_fem_est`: Median income for females.\n",
    "     - `med_inc_white_est`: Median income for White individuals.\n",
    "     - `med_inc_black_est`: Median income for Black individuals.\n",
    "     - `med_hh_inc_est`: Median income for Hispanic households.\n",
    "     - `med_inc_asian_est`: Median income for Asian individuals.\n",
    "   \n",
    "   - **Y-Axis (Last 12 Months Income):** Shows income levels ranging from $0 to $250,000.\n",
    "\n",
    "2. **Key Insights:**\n",
    "   - **Gender Disparities:**\n",
    "     - Males (`earn_med_male_est`) have a higher median income compared to females (`earn_med_fem_est`), indicating a clear gender income gap.\n",
    "     - The interquartile range for males is wider, suggesting more variability in male earnings, while the income for females is generally lower and less variable.\n",
    "\n",
    "   - **Racial and Ethnic Disparities:**\n",
    "     - **Asian Individuals (`med_inc_asian_est`)**: This group has the highest median income among all demographic groups, with a relatively wide spread indicating significant variability in earnings.\n",
    "     - **White Individuals (`med_inc_white_est`)**: White individuals also have relatively high median incomes, though slightly lower than Asians, with a large interquartile range reflecting income diversity within this group.\n",
    "     - **Black Individuals (`med_inc_black_est`)**: This group has the lowest median income among the racial categories, with a narrower range that suggests limited high-income earners compared to other groups.\n",
    "     - **Hispanic Households (`med_hh_inc_est`)**: Hispanic households show median income that is below White and Asian households but higher than Black individuals, suggesting intermediate income levels.\n",
    "\n",
    "3. **Income Variability:**\n",
    "   - **Wide Distribution:** The data shows considerable variability within each demographic, with outliers indicating individuals who earn significantly more than the typical range, especially among males, White, and Asian groups.\n",
    "   - **Outliers:** There are numerous high-income outliers in most groups, particularly among males and Whites, suggesting that while median incomes are informative, there are notable exceptions where individuals or households earn significantly higher than average.\n",
    "\n",
    "4. **Comparative Insights:**\n",
    "   - The plot highlights significant income disparities based on gender, race, and ethnicity. Males earn more than females, and there are clear income hierarchies among racial groups, with Asians and Whites earning more than Hispanics and Blacks.\n",
    "   - The data underscores persistent economic inequalities that are influenced by both gender and racial/ethnic factors, with Asian individuals showing the highest median earnings and Black individuals showing the lowest.\n",
    "\n",
    "### Conclusions:\n",
    "\n",
    "1. **Persistent Gender and Racial Income Gaps:**\n",
    "   - The data clearly demonstrates ongoing gender and racial income disparities, with males earning more than females and significant differences between racial groups. These gaps highlight the need for targeted policies and initiatives to promote income equity.\n",
    "\n",
    "2. **Economic Challenges for Black and Hispanic Households:**\n",
    "   - Black and Hispanic households face lower median incomes, which may reflect broader structural issues such as access to high-paying jobs, education, and economic opportunities. Addressing these disparities is crucial for fostering inclusive economic growth.\n",
    "\n",
    "3. **High Income Variability Within Groups:**\n",
    "   - The wide range of incomes, especially among males, Asians, and Whites, suggests that while some individuals achieve high earnings, others within the same demographic groups earn significantly less. This variability underscores the importance of understanding not just median income but also the broader distribution within each group.\n",
    "\n",
    "4. **Need for Equitable Economic Policies:**\n",
    "   - The significant disparities in income call for comprehensive policies that address wage inequality, support workforce development, and provide equitable access to economic opportunities across all demographic groups. Such measures are essential to closing income gaps and ensuring that economic growth benefits all communities.\n",
    "\n",
    "Overall, this analysis highlights the critical need to address income inequality through targeted interventions that consider both gender and racial/ethnic disparities. By focusing on these issues, policymakers can work towards a more equitable economic landscape."
   ]
  },
  {
   "cell_type": "markdown",
   "id": "b82048d8-4377-483e-a065-18ac81c948d0",
   "metadata": {
    "tags": []
   },
   "source": [
    "## Income Diversity by Age"
   ]
  },
  {
   "cell_type": "code",
   "execution_count": 85,
   "id": "831739ab-a26f-468c-910a-7581eefeb869",
   "metadata": {
    "tags": []
   },
   "outputs": [
    {
     "data": {
      "image/png": "[encoded data removed]",
      "text/plain": [
       "<Figure size 1200x600 with 1 Axes>"
      ]
     },
     "metadata": {},
     "output_type": "display_data"
    }
   ],
   "source": [
    "visuals = df_zeros\n",
    "age_income_mask = ['med_inc_age_15_24_est','med_inc_age_25_44_est','med_inc_age_45_64_est','med_inc_age_65plus_est']\n",
    "plt.figure(figsize=(12,6))\n",
    "sns.boxplot(data=visuals[age_income_mask], showfliers=True)\n",
    "\n",
    "\n",
    "plt.title('Median Income By Age', fontsize=20)\n",
    "plt.xlabel('Income Categories', fontsize=14)\n",
    "plt.ylabel('Last 12 Months Income ', fontsize=14)\n",
    "plt.xticks(rotation=45, horizontalalignment='right')\n",
    "plt.tight_layout()\n",
    "plt.show()"
   ]
  },
  {
   "cell_type": "markdown",
   "id": "d12758b9-e501-4025-868d-ac7dfe65dea3",
   "metadata": {},
   "source": [
    "### Analysis of the Box Plot: \"Median Income By Age\"\n",
    "\n",
    "The box plot visualizes the distribution of median income across different age groups, highlighting how income varies at different stages of life.\n",
    "\n",
    "### Detailed Observations:\n",
    "\n",
    "1. **Axes:**\n",
    "   - **X-Axis (Income Categories):** Represents different age groups:\n",
    "     - `med_inc_age_15_24_est`: Median income for individuals aged 15 to 24.\n",
    "     - `med_inc_age_25_44_est`: Median income for individuals aged 25 to 44.\n",
    "     - `med_inc_age_45_64_est`: Median income for individuals aged 45 to 64.\n",
    "     - `med_inc_age_65plus_est`: Median income for individuals aged 65 and older.\n",
    "   \n",
    "   - **Y-Axis (Last 12 Months Income):** Shows income levels ranging from $0 to $250,000.\n",
    "\n",
    "2. **Key Insights:**\n",
    "   - **Young Adults (15-24 years):**\n",
    "     - This age group has the lowest median income among all categories, which is typical for individuals in the early stages of their careers, often working part-time or entry-level jobs.\n",
    "     - There is a large number of high-income outliers, indicating that while the majority earn lower incomes, some young individuals have significantly higher earnings, possibly due to early career success or specialized high-paying jobs.\n",
    "\n",
    "   - **Adults (25-44 years):**\n",
    "     - The median income for this age group is notably higher, reflecting the peak earning years where individuals advance in their careers and attain higher salaries.\n",
    "     - The interquartile range is broad, indicating substantial variability in earnings, likely driven by differences in education, job experience, and career progression.\n",
    "\n",
    "   - **Middle-Aged Adults (45-64 years):**\n",
    "     - This group shows a median income similar to the 25-44 category, with a slightly higher median, reflecting the continuation of peak earning potential during the later stages of career development.\n",
    "     - The range of incomes remains wide, with many individuals earning well above the median, highlighting the continued financial benefits of career experience and leadership roles.\n",
    "\n",
    "   - **Seniors (65+ years):**\n",
    "     - The median income drops significantly for those aged 65 and older, reflecting retirement and reduced reliance on earned income, with most seniors depending on pensions, social security, or savings.\n",
    "     - The variability in income is narrower compared to the working-age groups, but some high-income outliers suggest that a portion of seniors maintain high earnings, possibly from continued employment, investments, or substantial retirement benefits.\n",
    "\n",
    "3. **Distribution Patterns:**\n",
    "   - **Earnings Lifecycle:**\n",
    "     - The plot highlights the expected lifecycle of earnings, with low income in youth, a steady rise through mid-adulthood, and a decline in retirement years.\n",
    "     - The broad range of incomes in the 25-64 age groups suggests significant differences in career success and economic outcomes within these categories.\n",
    "\n",
    "4. **Comparative Insights:**\n",
    "   - The clear decline in income for the 65+ group underscores the financial transition that occurs in retirement, emphasizing the need for adequate retirement planning.\n",
    "   - High variability within each age category indicates that factors such as education, career choice, and financial planning significantly impact income levels at different stages of life.\n",
    "\n",
    "### Conclusions:\n",
    "\n",
    "1. **Income Peaks in Midlife:**\n",
    "   - The highest median incomes occur in the 25-64 age range, reflecting peak career stages where individuals benefit most from their education, experience, and professional growth.\n",
    "\n",
    "2. **Economic Challenges for Young Adults and Seniors:**\n",
    "   - The lowest median incomes are observed in the 15-24 and 65+ age groups, highlighting the economic challenges faced by young adults entering the workforce and older adults transitioning to retirement.\n",
    "\n",
    "3. **Significant Income Variability:**\n",
    "   - The wide range of incomes within each age group, particularly among working-age adults, points to the varying economic outcomes driven by career progression, industry, and personal circumstances.\n",
    "\n",
    "4. **Importance of Financial Planning:**\n",
    "   - The marked income decline in retirement years emphasizes the importance of saving and financial planning throughout one's career to ensure economic stability in later life.\n",
    "\n",
    "Overall, the analysis shows a typical income trajectory across the lifespan, with implications for career development, retirement planning, and targeted support for young and older adults to improve financial security throughout life."
   ]
  },
  {
   "cell_type": "code",
   "execution_count": null,
   "id": "3fb718a4-3c07-4d28-9898-626f54968ce3",
   "metadata": {},
   "outputs": [],
   "source": []
  },
  {
   "cell_type": "code",
   "execution_count": 89,
   "id": "2e4273da-f20b-4278-945f-f4953299ec02",
   "metadata": {
    "tags": []
   },
   "outputs": [
    {
     "data": {
      "image/png": "[encoded data removed]",
      "text/plain": [
       "<Figure size 1200x600 with 1 Axes>"
      ]
     },
     "metadata": {},
     "output_type": "display_data"
    }
   ],
   "source": [
    "visuals = df_zeros\n",
    "housing_mask = ['housecost_med_est','housecost_owner_est','housecost_rent_est']\n",
    "plt.figure(figsize=(12,6))\n",
    "sns.boxplot(data=visuals[housing_mask], showfliers=True)\n",
    "\n",
    "\n",
    "plt.title('Housing Costs', fontsize=20)\n",
    "plt.xlabel('Housing Categories', fontsize=14)\n",
    "plt.ylabel('Monthly Housing Costs ', fontsize=14)\n",
    "plt.xticks(rotation=45, horizontalalignment='right')\n",
    "plt.tight_layout()\n",
    "plt.show()"
   ]
  },
  {
   "cell_type": "markdown",
   "id": "dc6a36c4-be70-4dc7-af5e-ea404e915a8e",
   "metadata": {},
   "source": [
    "### Analysis of the Box Plot: \"Housing Costs\"\n",
    "\n",
    "### Inital Observations:\n",
    "\n",
    "1. **Axes:**\n",
    "   - **X-Axis (Housing Categories):** Represents different categories of housing costs:\n",
    "     - `housecost_med_est`: Median monthly housing costs for all households.\n",
    "     - `housecost_owner_est`: Monthly housing costs for owner-occupied homes, including mortgage payments, property taxes, and insurance.\n",
    "     - `housecost_rent_est`: Monthly housing costs for renter-occupied homes, typically including rent and utility costs.\n",
    "   \n",
    "   - **Y-Axis (Monthly Housing Costs):** Ranges from $0 to over $4,000, showing the monthly cost distribution.\n",
    "\n",
    "2. **Key Insights:**\n",
    "   - **Overall Housing Costs (`housecost_med_est`):**\n",
    "     - The median housing cost for all households falls between $1,500 and $2,500, with a broad interquartile range indicating significant variability in overall housing expenses.\n",
    "     - The spread of costs suggests that while many households pay within this range, there are households at both lower and higher ends of the cost spectrum.\n",
    "     - Outliers at the upper range indicate some households face exceptionally high housing costs, possibly due to larger properties, high mortgage rates, or living in expensive areas.\n",
    "\n",
    "   - **Owner-Occupied Housing Costs (`housecost_owner_est`):**\n",
    "     - This category shows the highest median monthly cost among the three groups, highlighting that owning a home, including mortgage and other associated expenses, is generally more expensive than renting.\n",
    "     - The interquartile range is wide, reflecting diverse costs associated with ownership, such as variations in mortgage payments, property taxes, and maintenance.\n",
    "     - There are no significant outliers on the lower end, suggesting that housing costs for owners rarely drop below a baseline due to fixed expenses like property taxes.\n",
    "\n",
    "   - **Renter-Occupied Housing Costs (`housecost_rent_est`):**\n",
    "     - Renting is the least expensive category, with the median monthly cost slightly lower than that of the overall housing costs.\n",
    "     - The spread is narrower compared to the owner category, indicating that rental costs are more consistent across different renters, although still showing some variability due to differences in property type, location, and included amenities.\n",
    "     - There are no extreme outliers, reflecting a more predictable cost structure for renters compared to owners.\n",
    "\n",
    "3. **Distribution Patterns:**\n",
    "   - **Cost Variability:** \n",
    "     - Owner-occupied housing shows the most variability, reflecting the wide range of home prices, mortgage rates, and associated costs across different markets.\n",
    "     - Rental costs, while lower, still exhibit some variability, indicating that renters face a range of price points based on market conditions, location, and property type.\n",
    "\n",
    "4. **Comparative Insights:**\n",
    "   - The plot clearly shows that owning a home generally incurs higher monthly costs than renting, but also comes with a broader range of expenses. This could influence housing decisions based on financial capacity and long-term investment considerations.\n",
    "   - For many households, renting remains a more affordable option, especially in areas where property values and associated ownership costs are high.\n",
    "\n",
    "5. **Implications:**\n",
    "   - The data emphasizes the financial burden of homeownership, which can be particularly challenging in high-cost areas.\n",
    "   - Understanding these cost dynamics can inform housing policies, financial planning, and support programs aimed at reducing housing cost burdens, especially for first-time homebuyers and low-income renters.\n",
    "\n",
    "### Summary:\n",
    "This box plot illustrates the distribution of housing costs across different household types, highlighting the generally higher and more variable costs associated with owning a home compared to renting. The data underscores the importance of affordable housing initiatives and supports the need for tailored financial planning to help households manage their housing expenses effectively.\n",
    "\n",
    "### Conclusions from the Box Plot Analysis: \"Housing Costs\"\n",
    "\n",
    "1. **Homeownership is Generally More Expensive:**\n",
    "   - Owner-occupied housing costs (`housecost_owner_est`) are the highest among the categories analyzed, reflecting the additional financial responsibilities of owning a home, such as mortgage payments, property taxes, and maintenance costs.\n",
    "   - The wide range in costs for homeowners highlights significant variability influenced by factors such as property location, home size, and market conditions.\n",
    "\n",
    "2. **Renting is More Affordable but Still Variable:**\n",
    "   - Renter-occupied housing costs (`housecost_rent_est`) are lower and more consistent than ownership costs, making renting a more predictable and generally more affordable option for many households.\n",
    "   - Despite being the least expensive, rental costs still vary significantly, suggesting that market factors, location, and property type can affect rent levels.\n",
    "\n",
    "3. **Overall Housing Cost Variability:**\n",
    "   - The variability in median housing costs for all households (`housecost_med_est`) indicates that housing affordability is a broad issue, with some households facing significantly higher costs than others.\n",
    "   - Outliers on the higher end for all categories suggest that certain households are experiencing extreme housing costs, likely driven by market dynamics or specific personal circumstances.\n",
    "\n",
    "4. **Implications for Housing Policy:**\n",
    "   - The data underscores the need for housing policies that address the financial burden of homeownership, especially for middle-income and first-time homebuyers who may struggle with high costs.\n",
    "   - Efforts to control rental prices, expand affordable rental options, and support renters in high-cost areas are critical to maintaining accessible housing markets.\n",
    "\n",
    "5. **Importance of Financial Planning:**\n",
    "   - For prospective homeowners, understanding the full scope of ownership costs is crucial for long-term financial stability. This includes not just mortgage payments but also property taxes, insurance, and maintenance.\n",
    "   - Renters, while generally facing lower costs, still need to be aware of potential rent increases and seek stable, affordable housing options.\n",
    "\n",
    "6. **Targeted Support for High-Cost Burden Households:**\n",
    "   - The presence of high-cost outliers indicates a segment of the population facing unsustainable housing costs. Targeted support, such as subsidies, tax breaks, or financial counseling, could help alleviate these burdens.\n",
    "\n",
    "### Overall Conclusion:\n",
    "This analysis highlights significant differences in housing costs between renting and owning, with ownership generally being more costly and variable. These findings emphasize the need for comprehensive housing policies that promote affordability, stability, and financial accessibility across the spectrum of housing choices. Addressing these challenges can help create a more equitable housing market that meets the needs of diverse households.\n"
   ]
  },
  {
   "cell_type": "code",
   "execution_count": null,
   "id": "7deeedfc-2ef8-417c-a2f5-e4416b15b130",
   "metadata": {},
   "outputs": [],
   "source": []
  },
  {
   "cell_type": "markdown",
   "id": "d9dacbc4-b063-48b6-b399-4f8f0854b72d",
   "metadata": {},
   "source": [
    "## Testing out GEOID using census data provided by US government\n",
    "\n",
    "Providing maps for some of our data visualizations may prove to be helpful for some of the upcoming challenges, in addition to other visualizations other contributors will provide. In order to ensure that our data GEOID fields are valid, I obtained publicly available tract files for data mapping at https://data.census.gov/\n",
    "\n",
    "### Simple Visualization of GEOID Data\n",
    "\n",
    "Before committing to providing possible map solutions to some of the challenges, lets confirm that the data provided can be used by using GEO Pandas to plot a simple tract from one Florida county."
   ]
  },
  {
   "cell_type": "code",
   "execution_count": 96,
   "id": "e5548efb-ccdf-49cd-9592-33d9fde693d1",
   "metadata": {
    "tags": []
   },
   "outputs": [
    {
     "name": "stdout",
     "output_type": "stream",
     "text": [
      "Columns in the shapefile: ['STATEFP10', 'COUNTYFP10', 'TRACTCE10', 'GEOID10', 'NAME10', 'NAMELSAD10', 'MTFCC10', 'FUNCSTAT10', 'ALAND10', 'AWATER10', 'INTPTLAT10', 'INTPTLON10', 'geometry']\n",
      "   STATEFP10 COUNTYFP10 TRACTCE10      GEOID10 NAME10    NAMELSAD10 MTFCC10  \\\n",
      "10        12        001    000700  12001000700      7  Census Tract   G5020   \n",
      "\n",
      "   FUNCSTAT10   ALAND10  AWATER10   INTPTLAT10    INTPTLON10  \\\n",
      "10          S  22417196    457315  +29.6280432  -082.2957817   \n",
      "\n",
      "                                             geometry  \n",
      "10  POLYGON ((-82.32755 29.63571, -82.32729 29.636...  \n"
     ]
    }
   ],
   "source": [
    "#path to shapefile\n",
    "shapefile_path = 'tl_2020_12001_tract10.shp'\n",
    "#reading in shapfile using GeoPandas\n",
    "tracts = gpd.read_file(shapefile_path)\n",
    "#testing with GEOID selected from df.head()\n",
    "# Print all column names to verify\n",
    "print(\"Columns in the shapefile:\", tracts.columns.tolist())\n",
    "test_tract = tracts[tracts['GEOID10'] == '12001000700']\n",
    "# Check if the tract exists\n",
    "if test_tract.empty:\n",
    "    print(\"GEOID not found in the shapefile.\")\n",
    "else:\n",
    "    # Display information about the tract\n",
    "    print(test_tract)"
   ]
  },
  {
   "cell_type": "code",
   "execution_count": 98,
   "id": "436c7c94-613f-4ce1-bd83-be7fd3693082",
   "metadata": {
    "tags": []
   },
   "outputs": [
    {
     "data": {
      "image/png": "[encoded data removed]",
      "text/plain": [
       "<Figure size 640x480 with 1 Axes>"
      ]
     },
     "metadata": {},
     "output_type": "display_data"
    }
   ],
   "source": [
    "# Plot the specific Census Tract\n",
    "test_tract.plot(edgecolor='black', color='lightblue')\n",
    "plt.title('Census Tract GEOID: 12001000700')\n",
    "plt.xlabel('Longitude')\n",
    "plt.ylabel('Latitude')\n",
    "plt.show()"
   ]
  },
  {
   "cell_type": "code",
   "execution_count": null,
   "id": "d3e7fcfc-01d4-4dea-9290-5678f41b114e",
   "metadata": {},
   "outputs": [],
   "source": []
  }
 ],
 "metadata": {
  "kernelspec": {
   "display_name": "Python 3 (ipykernel)",
   "language": "python",
   "name": "python3"
  },
  "language_info": {
   "codemirror_mode": {
    "name": "ipython",
    "version": 3
   },
   "file_extension": ".py",
   "mimetype": "text/x-python",
   "name": "python",
   "nbconvert_exporter": "python",
   "pygments_lexer": "ipython3",
   "version": "3.11.9"
  }
 },
 "nbformat": 4,
 "nbformat_minor": 5
}
